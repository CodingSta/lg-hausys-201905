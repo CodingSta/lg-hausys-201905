{
 "cells": [
  {
   "cell_type": "markdown",
   "metadata": {},
   "source": [
    "# 2일차"
   ]
  },
  {
   "cell_type": "code",
   "execution_count": 1,
   "metadata": {},
   "outputs": [
    {
     "data": {
      "text/plain": [
       "[{'이름': '철수', '국어': 100, '영어': 80, '수학': 90},\n",
       " {'이름': '영희', '국어': 90, '영어': 70, '수학': 70},\n",
       " {'이름': '스티브', '국어': 50, '영어': 100, '수학': 50}]"
      ]
     },
     "execution_count": 1,
     "metadata": {},
     "output_type": "execute_result"
    }
   ],
   "source": [
    "학생_성적 = [\n",
    "    {'이름': '철수', '국어': 100, '영어': 80, '수학': 90},\n",
    "    {'이름': '영희', '국어': 90, '영어': 70, '수학': 70},\n",
    "    {'이름': '스티브',` '국어': 50, '영어': 100, '수학': 50},\n",
    "]\n",
    "학생_성적"
   ]
  },
  {
   "cell_type": "code",
   "execution_count": 2,
   "metadata": {},
   "outputs": [
    {
     "data": {
      "text/plain": [
       "[1, 2, 3, 'a', 'b', 4.5, ['python', 'django', {}]]"
      ]
     },
     "execution_count": 2,
     "metadata": {},
     "output_type": "execute_result"
    }
   ],
   "source": [
    "[1, 2, 3, 'a', 'b', 4.5, ['python', 'django', {}]]"
   ]
  },
  {
   "cell_type": "code",
   "execution_count": 6,
   "metadata": {},
   "outputs": [
    {
     "name": "stdout",
     "output_type": "stream",
     "text": [
      "True\n",
      "False\n",
      "True\n",
      "False\n"
     ]
    }
   ],
   "source": [
    "메뉴_리스트 = ['김치찌개', '김밥', '라면']\n",
    "\n",
    "# 메뉴_리스트.contains(\"김밥\")  # Java라면\n",
    "\n",
    "print('김밥' in 메뉴_리스트)\n",
    "print('김치' in 메뉴_리스트)\n",
    "print('김치' in 메뉴_리스트[0])\n",
    "print('김치' not in 메뉴_리스트[0])"
   ]
  },
  {
   "cell_type": "code",
   "execution_count": null,
   "metadata": {},
   "outputs": [],
   "source": []
  },
  {
   "cell_type": "code",
   "execution_count": 9,
   "metadata": {},
   "outputs": [
    {
     "data": {
      "text/plain": [
       "dict"
      ]
     },
     "execution_count": 9,
     "metadata": {},
     "output_type": "execute_result"
    }
   ],
   "source": [
    "철수_성적 = {'이름': '철수', '국어': 100, '영어': 80, '수학': 90}  # 끝 콤마 필히 제거\n",
    "type(철수_성적)"
   ]
  },
  {
   "cell_type": "code",
   "execution_count": 14,
   "metadata": {},
   "outputs": [],
   "source": [
    "# mylist.append(항목)  # 리스트에서의 1개 항목 추가\n",
    "# myset.add(항목)      # 집합ㄹ에서의 1개 항목 추가"
   ]
  },
  {
   "cell_type": "code",
   "execution_count": 17,
   "metadata": {},
   "outputs": [
    {
     "data": {
      "text/plain": [
       "{'이름': '철수', '국어': 100, '영어': 80, '수학': 90, '사회': 80}"
      ]
     },
     "execution_count": 17,
     "metadata": {},
     "output_type": "execute_result"
    }
   ],
   "source": [
    "철수_성적['사회'] = 80\n",
    "철수_성적"
   ]
  },
  {
   "cell_type": "code",
   "execution_count": 18,
   "metadata": {},
   "outputs": [
    {
     "data": {
      "text/plain": [
       "{'이름': '철수', '국어': 100, '영어': 85, '수학': 90, '사회': 80}"
      ]
     },
     "execution_count": 18,
     "metadata": {},
     "output_type": "execute_result"
    }
   ],
   "source": [
    "# 철수_성적['영어']  = 철수_성적['영어'] + 5\n",
    "철수_성적['영어'] += 5\n",
    "철수_성적"
   ]
  },
  {
   "cell_type": "code",
   "execution_count": 19,
   "metadata": {},
   "outputs": [
    {
     "ename": "KeyError",
     "evalue": "'과학'",
     "output_type": "error",
     "traceback": [
      "\u001b[0;31m---------------------------------------------------------------------------\u001b[0m",
      "\u001b[0;31mKeyError\u001b[0m                                  Traceback (most recent call last)",
      "\u001b[0;32m<ipython-input-19-499448139059>\u001b[0m in \u001b[0;36m<module>\u001b[0;34m()\u001b[0m\n\u001b[0;32m----> 1\u001b[0;31m \u001b[0m철수_성적\u001b[0m\u001b[0;34m[\u001b[0m\u001b[0;34m'과학'\u001b[0m\u001b[0;34m]\u001b[0m \u001b[0;34m+=\u001b[0m \u001b[0;36m10\u001b[0m\u001b[0;34m\u001b[0m\u001b[0;34m\u001b[0m\u001b[0m\n\u001b[0m",
      "\u001b[0;31mKeyError\u001b[0m: '과학'"
     ]
    }
   ],
   "source": [
    "철수_성적['과학'] += 10"
   ]
  },
  {
   "cell_type": "code",
   "execution_count": 20,
   "metadata": {},
   "outputs": [
    {
     "data": {
      "text/plain": [
       "False"
      ]
     },
     "execution_count": 20,
     "metadata": {},
     "output_type": "execute_result"
    }
   ],
   "source": [
    "100 in 철수_성적"
   ]
  },
  {
   "cell_type": "code",
   "execution_count": 22,
   "metadata": {},
   "outputs": [
    {
     "data": {
      "text/plain": [
       "True"
      ]
     },
     "execution_count": 22,
     "metadata": {},
     "output_type": "execute_result"
    }
   ],
   "source": [
    "'국어' in 철수_성적"
   ]
  },
  {
   "cell_type": "code",
   "execution_count": 26,
   "metadata": {},
   "outputs": [
    {
     "data": {
      "text/plain": [
       "{'이름': '철수', '국어': 100, '영어': 85, '수학': 90, '사회': 80, '과학': 30}"
      ]
     },
     "execution_count": 26,
     "metadata": {},
     "output_type": "execute_result"
    }
   ],
   "source": [
    "if '과학' not in 철수_성적:\n",
    "    철수_성적['과학'] = 0  # 디폴트 값 적용\n",
    "철수_성적['과학'] += 10\n",
    "철수_성적"
   ]
  },
  {
   "cell_type": "code",
   "execution_count": null,
   "metadata": {},
   "outputs": [],
   "source": []
  },
  {
   "cell_type": "code",
   "execution_count": 27,
   "metadata": {},
   "outputs": [],
   "source": [
    "i = 10"
   ]
  },
  {
   "cell_type": "code",
   "execution_count": 28,
   "metadata": {},
   "outputs": [
    {
     "data": {
      "text/plain": [
       "10"
      ]
     },
     "execution_count": 28,
     "metadata": {},
     "output_type": "execute_result"
    }
   ],
   "source": [
    "i"
   ]
  },
  {
   "cell_type": "code",
   "execution_count": 29,
   "metadata": {},
   "outputs": [],
   "source": [
    "del i"
   ]
  },
  {
   "cell_type": "code",
   "execution_count": 30,
   "metadata": {},
   "outputs": [
    {
     "ename": "NameError",
     "evalue": "name 'i' is not defined",
     "output_type": "error",
     "traceback": [
      "\u001b[0;31m---------------------------------------------------------------------------\u001b[0m",
      "\u001b[0;31mNameError\u001b[0m                                 Traceback (most recent call last)",
      "\u001b[0;32m<ipython-input-30-397d543883c5>\u001b[0m in \u001b[0;36m<module>\u001b[0;34m()\u001b[0m\n\u001b[0;32m----> 1\u001b[0;31m \u001b[0mi\u001b[0m\u001b[0;34m\u001b[0m\u001b[0;34m\u001b[0m\u001b[0m\n\u001b[0m",
      "\u001b[0;31mNameError\u001b[0m: name 'i' is not defined"
     ]
    }
   ],
   "source": [
    "i"
   ]
  },
  {
   "cell_type": "code",
   "execution_count": null,
   "metadata": {},
   "outputs": [],
   "source": []
  },
  {
   "cell_type": "code",
   "execution_count": 32,
   "metadata": {},
   "outputs": [
    {
     "data": {
      "text/plain": [
       "{'이름': '철수', '국어': 100, '영어': 85, '수학': 90, '사회': 80}"
      ]
     },
     "execution_count": 32,
     "metadata": {},
     "output_type": "execute_result"
    }
   ],
   "source": [
    "del 철수_성적['과학']  # '과학' Key/Value 삭제\n",
    "철수_성적"
   ]
  },
  {
   "cell_type": "code",
   "execution_count": null,
   "metadata": {},
   "outputs": [],
   "source": []
  },
  {
   "cell_type": "code",
   "execution_count": 34,
   "metadata": {},
   "outputs": [
    {
     "data": {
      "text/plain": [
       "{'이름': '철수',\n",
       " '국어': 100,\n",
       " '영어': 85,\n",
       " '수학': 90,\n",
       " '사회': 80,\n",
       " '지리': 90,\n",
       " '음악': 80,\n",
       " '미술': 95}"
      ]
     },
     "execution_count": 34,
     "metadata": {},
     "output_type": "execute_result"
    }
   ],
   "source": [
    "# 지리, 음악, 미술\n",
    "# 철수_성적['지리'] = 90\n",
    "# 철수_성적['음악'] = 80\n",
    "# 철수_성적['미술'] = 95\n",
    "\n",
    "철수_성적.update({'지리': 90, '음악': 80, '미술': 95})\n",
    "철수_성적"
   ]
  },
  {
   "cell_type": "markdown",
   "metadata": {},
   "source": [
    "## 제어구조\n",
    "### 조건문"
   ]
  },
  {
   "cell_type": "code",
   "execution_count": 35,
   "metadata": {},
   "outputs": [
    {
     "name": "stdout",
     "output_type": "stream",
     "text": [
      "홀수\n"
     ]
    }
   ],
   "source": [
    "숫자 = 21\n",
    "\n",
    "if 숫자 % 2 == 0:\n",
    "    print(\"짝수\")\n",
    "\n",
    "if 숫자 % 2 != 0:\n",
    "    print(\"홀수\")"
   ]
  },
  {
   "cell_type": "code",
   "execution_count": 39,
   "metadata": {},
   "outputs": [
    {
     "name": "stdout",
     "output_type": "stream",
     "text": [
      "홀수\n"
     ]
    }
   ],
   "source": [
    "if 숫자 % 2 == 0:\n",
    "    print(\"짝수\")\n",
    "else:\n",
    "    print(\"홀수\")"
   ]
  },
  {
   "cell_type": "code",
   "execution_count": 49,
   "metadata": {},
   "outputs": [],
   "source": [
    "import random\n",
    "\n",
    "number = random.randint(1, 40)"
   ]
  },
  {
   "cell_type": "code",
   "execution_count": 53,
   "metadata": {},
   "outputs": [
    {
     "name": "stdout",
     "output_type": "stream",
     "text": [
      "10의 자리수\n"
     ]
    }
   ],
   "source": [
    "if number < 10:\n",
    "    print(\"1의 자리수\")\n",
    "\n",
    "if number >= 10 and number < 20:\n",
    "    print(\"10의 자리수\")\n",
    "\n",
    "if number >= 20 and number < 30:\n",
    "    print(\"20의 자리수\")\n",
    "\n",
    "if number >= 30:\n",
    "    print(\"큰 수\")"
   ]
  },
  {
   "cell_type": "code",
   "execution_count": 54,
   "metadata": {},
   "outputs": [
    {
     "name": "stdout",
     "output_type": "stream",
     "text": [
      "10의 자리수\n"
     ]
    }
   ],
   "source": [
    "if number < 10:\n",
    "    print(\"1의 자리수\")\n",
    "\n",
    "elif number < 20:\n",
    "    print(\"10의 자리수\")\n",
    "\n",
    "elif number < 30:\n",
    "    print(\"20의 자리수\")\n",
    "\n",
    "else:\n",
    "    print(\"큰 수\")"
   ]
  },
  {
   "cell_type": "code",
   "execution_count": 55,
   "metadata": {},
   "outputs": [
    {
     "data": {
      "text/plain": [
       "False"
      ]
     },
     "execution_count": 55,
     "metadata": {},
     "output_type": "execute_result"
    }
   ],
   "source": [
    "model_name = 'iPhone XS'\n",
    "\n",
    "model_name == 'Galaxy 10s'"
   ]
  },
  {
   "cell_type": "markdown",
   "metadata": {},
   "source": [
    "### 반복문"
   ]
  },
  {
   "cell_type": "code",
   "execution_count": null,
   "metadata": {},
   "outputs": [],
   "source": []
  }
 ],
 "metadata": {
  "kernelspec": {
   "display_name": "Python 3",
   "language": "python",
   "name": "python3"
  },
  "language_info": {
   "codemirror_mode": {
    "name": "ipython",
    "version": 3
   },
   "file_extension": ".py",
   "mimetype": "text/x-python",
   "name": "python",
   "nbconvert_exporter": "python",
   "pygments_lexer": "ipython3",
   "version": "3.7.2"
  }
 },
 "nbformat": 4,
 "nbformat_minor": 2
}
