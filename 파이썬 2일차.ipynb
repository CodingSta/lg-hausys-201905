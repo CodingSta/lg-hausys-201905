{
 "cells": [
  {
   "cell_type": "markdown",
   "metadata": {},
   "source": [
    "# 2일차"
   ]
  },
  {
   "cell_type": "code",
   "execution_count": 1,
   "metadata": {},
   "outputs": [
    {
     "data": {
      "text/plain": [
       "[{'이름': '철수', '국어': 100, '영어': 80, '수학': 90},\n",
       " {'이름': '영희', '국어': 90, '영어': 70, '수학': 70},\n",
       " {'이름': '스티브', '국어': 50, '영어': 100, '수학': 50}]"
      ]
     },
     "execution_count": 1,
     "metadata": {},
     "output_type": "execute_result"
    }
   ],
   "source": [
    "학생_성적 = [\n",
    "    {'이름': '철수', '국어': 100, '영어': 80, '수학': 90},\n",
    "    {'이름': '영희', '국어': 90, '영어': 70, '수학': 70},\n",
    "    {'이름': '스티브',` '국어': 50, '영어': 100, '수학': 50},\n",
    "]\n",
    "학생_성적"
   ]
  },
  {
   "cell_type": "code",
   "execution_count": 2,
   "metadata": {},
   "outputs": [
    {
     "data": {
      "text/plain": [
       "[1, 2, 3, 'a', 'b', 4.5, ['python', 'django', {}]]"
      ]
     },
     "execution_count": 2,
     "metadata": {},
     "output_type": "execute_result"
    }
   ],
   "source": [
    "[1, 2, 3, 'a', 'b', 4.5, ['python', 'django', {}]]"
   ]
  },
  {
   "cell_type": "code",
   "execution_count": 6,
   "metadata": {},
   "outputs": [
    {
     "name": "stdout",
     "output_type": "stream",
     "text": [
      "True\n",
      "False\n",
      "True\n",
      "False\n"
     ]
    }
   ],
   "source": [
    "메뉴_리스트 = ['김치찌개', '김밥', '라면']\n",
    "\n",
    "# 메뉴_리스트.contains(\"김밥\")  # Java라면\n",
    "\n",
    "print('김밥' in 메뉴_리스트)\n",
    "print('김치' in 메뉴_리스트)\n",
    "print('김치' in 메뉴_리스트[0])\n",
    "print('김치' not in 메뉴_리스트[0])"
   ]
  },
  {
   "cell_type": "code",
   "execution_count": null,
   "metadata": {},
   "outputs": [],
   "source": []
  },
  {
   "cell_type": "code",
   "execution_count": 9,
   "metadata": {},
   "outputs": [
    {
     "data": {
      "text/plain": [
       "dict"
      ]
     },
     "execution_count": 9,
     "metadata": {},
     "output_type": "execute_result"
    }
   ],
   "source": [
    "철수_성적 = {'이름': '철수', '국어': 100, '영어': 80, '수학': 90}  # 끝 콤마 필히 제거\n",
    "type(철수_성적)"
   ]
  },
  {
   "cell_type": "code",
   "execution_count": 14,
   "metadata": {},
   "outputs": [],
   "source": [
    "# mylist.append(항목)  # 리스트에서의 1개 항목 추가\n",
    "# myset.add(항목)      # 집합ㄹ에서의 1개 항목 추가"
   ]
  },
  {
   "cell_type": "code",
   "execution_count": 17,
   "metadata": {},
   "outputs": [
    {
     "data": {
      "text/plain": [
       "{'이름': '철수', '국어': 100, '영어': 80, '수학': 90, '사회': 80}"
      ]
     },
     "execution_count": 17,
     "metadata": {},
     "output_type": "execute_result"
    }
   ],
   "source": [
    "철수_성적['사회'] = 80\n",
    "철수_성적"
   ]
  },
  {
   "cell_type": "code",
   "execution_count": 18,
   "metadata": {},
   "outputs": [
    {
     "data": {
      "text/plain": [
       "{'이름': '철수', '국어': 100, '영어': 85, '수학': 90, '사회': 80}"
      ]
     },
     "execution_count": 18,
     "metadata": {},
     "output_type": "execute_result"
    }
   ],
   "source": [
    "# 철수_성적['영어']  = 철수_성적['영어'] + 5\n",
    "철수_성적['영어'] += 5\n",
    "철수_성적"
   ]
  },
  {
   "cell_type": "code",
   "execution_count": 19,
   "metadata": {},
   "outputs": [
    {
     "ename": "KeyError",
     "evalue": "'과학'",
     "output_type": "error",
     "traceback": [
      "\u001b[0;31m---------------------------------------------------------------------------\u001b[0m",
      "\u001b[0;31mKeyError\u001b[0m                                  Traceback (most recent call last)",
      "\u001b[0;32m<ipython-input-19-499448139059>\u001b[0m in \u001b[0;36m<module>\u001b[0;34m()\u001b[0m\n\u001b[0;32m----> 1\u001b[0;31m \u001b[0m철수_성적\u001b[0m\u001b[0;34m[\u001b[0m\u001b[0;34m'과학'\u001b[0m\u001b[0;34m]\u001b[0m \u001b[0;34m+=\u001b[0m \u001b[0;36m10\u001b[0m\u001b[0;34m\u001b[0m\u001b[0;34m\u001b[0m\u001b[0m\n\u001b[0m",
      "\u001b[0;31mKeyError\u001b[0m: '과학'"
     ]
    }
   ],
   "source": [
    "철수_성적['과학'] += 10"
   ]
  },
  {
   "cell_type": "code",
   "execution_count": 20,
   "metadata": {},
   "outputs": [
    {
     "data": {
      "text/plain": [
       "False"
      ]
     },
     "execution_count": 20,
     "metadata": {},
     "output_type": "execute_result"
    }
   ],
   "source": [
    "100 in 철수_성적"
   ]
  },
  {
   "cell_type": "code",
   "execution_count": 22,
   "metadata": {},
   "outputs": [
    {
     "data": {
      "text/plain": [
       "True"
      ]
     },
     "execution_count": 22,
     "metadata": {},
     "output_type": "execute_result"
    }
   ],
   "source": [
    "'국어' in 철수_성적"
   ]
  },
  {
   "cell_type": "code",
   "execution_count": 26,
   "metadata": {},
   "outputs": [
    {
     "data": {
      "text/plain": [
       "{'이름': '철수', '국어': 100, '영어': 85, '수학': 90, '사회': 80, '과학': 30}"
      ]
     },
     "execution_count": 26,
     "metadata": {},
     "output_type": "execute_result"
    }
   ],
   "source": [
    "if '과학' not in 철수_성적:\n",
    "    철수_성적['과학'] = 0  # 디폴트 값 적용\n",
    "철수_성적['과학'] += 10\n",
    "철수_성적"
   ]
  },
  {
   "cell_type": "code",
   "execution_count": null,
   "metadata": {},
   "outputs": [],
   "source": []
  },
  {
   "cell_type": "code",
   "execution_count": 27,
   "metadata": {},
   "outputs": [],
   "source": [
    "i = 10"
   ]
  },
  {
   "cell_type": "code",
   "execution_count": 28,
   "metadata": {},
   "outputs": [
    {
     "data": {
      "text/plain": [
       "10"
      ]
     },
     "execution_count": 28,
     "metadata": {},
     "output_type": "execute_result"
    }
   ],
   "source": [
    "i"
   ]
  },
  {
   "cell_type": "code",
   "execution_count": 29,
   "metadata": {},
   "outputs": [],
   "source": [
    "del i"
   ]
  },
  {
   "cell_type": "code",
   "execution_count": 30,
   "metadata": {},
   "outputs": [
    {
     "ename": "NameError",
     "evalue": "name 'i' is not defined",
     "output_type": "error",
     "traceback": [
      "\u001b[0;31m---------------------------------------------------------------------------\u001b[0m",
      "\u001b[0;31mNameError\u001b[0m                                 Traceback (most recent call last)",
      "\u001b[0;32m<ipython-input-30-397d543883c5>\u001b[0m in \u001b[0;36m<module>\u001b[0;34m()\u001b[0m\n\u001b[0;32m----> 1\u001b[0;31m \u001b[0mi\u001b[0m\u001b[0;34m\u001b[0m\u001b[0;34m\u001b[0m\u001b[0m\n\u001b[0m",
      "\u001b[0;31mNameError\u001b[0m: name 'i' is not defined"
     ]
    }
   ],
   "source": [
    "i"
   ]
  },
  {
   "cell_type": "code",
   "execution_count": null,
   "metadata": {},
   "outputs": [],
   "source": []
  },
  {
   "cell_type": "code",
   "execution_count": 32,
   "metadata": {},
   "outputs": [
    {
     "data": {
      "text/plain": [
       "{'이름': '철수', '국어': 100, '영어': 85, '수학': 90, '사회': 80}"
      ]
     },
     "execution_count": 32,
     "metadata": {},
     "output_type": "execute_result"
    }
   ],
   "source": [
    "del 철수_성적['과학']  # '과학' Key/Value 삭제\n",
    "철수_성적"
   ]
  },
  {
   "cell_type": "code",
   "execution_count": null,
   "metadata": {},
   "outputs": [],
   "source": []
  },
  {
   "cell_type": "code",
   "execution_count": 34,
   "metadata": {},
   "outputs": [
    {
     "data": {
      "text/plain": [
       "{'이름': '철수',\n",
       " '국어': 100,\n",
       " '영어': 85,\n",
       " '수학': 90,\n",
       " '사회': 80,\n",
       " '지리': 90,\n",
       " '음악': 80,\n",
       " '미술': 95}"
      ]
     },
     "execution_count": 34,
     "metadata": {},
     "output_type": "execute_result"
    }
   ],
   "source": [
    "# 지리, 음악, 미술\n",
    "# 철수_성적['지리'] = 90\n",
    "# 철수_성적['음악'] = 80\n",
    "# 철수_성적['미술'] = 95\n",
    "\n",
    "철수_성적.update({'지리': 90, '음악': 80, '미술': 95})\n",
    "철수_성적"
   ]
  },
  {
   "cell_type": "markdown",
   "metadata": {},
   "source": [
    "## 제어구조\n",
    "### 조건문"
   ]
  },
  {
   "cell_type": "code",
   "execution_count": 35,
   "metadata": {},
   "outputs": [
    {
     "name": "stdout",
     "output_type": "stream",
     "text": [
      "홀수\n"
     ]
    }
   ],
   "source": [
    "숫자 = 21\n",
    "\n",
    "if 숫자 % 2 == 0:\n",
    "    print(\"짝수\")\n",
    "\n",
    "if 숫자 % 2 != 0:\n",
    "    print(\"홀수\")"
   ]
  },
  {
   "cell_type": "code",
   "execution_count": 39,
   "metadata": {},
   "outputs": [
    {
     "name": "stdout",
     "output_type": "stream",
     "text": [
      "홀수\n"
     ]
    }
   ],
   "source": [
    "if 숫자 % 2 == 0:\n",
    "    print(\"짝수\")\n",
    "else:\n",
    "    print(\"홀수\")"
   ]
  },
  {
   "cell_type": "code",
   "execution_count": 49,
   "metadata": {},
   "outputs": [],
   "source": [
    "import random\n",
    "\n",
    "number = random.randint(1, 40)"
   ]
  },
  {
   "cell_type": "code",
   "execution_count": 53,
   "metadata": {},
   "outputs": [
    {
     "name": "stdout",
     "output_type": "stream",
     "text": [
      "10의 자리수\n"
     ]
    }
   ],
   "source": [
    "if number < 10:\n",
    "    print(\"1의 자리수\")\n",
    "\n",
    "if number >= 10 and number < 20:\n",
    "    print(\"10의 자리수\")\n",
    "\n",
    "if number >= 20 and number < 30:\n",
    "    print(\"20의 자리수\")\n",
    "\n",
    "if number >= 30:\n",
    "    print(\"큰 수\")"
   ]
  },
  {
   "cell_type": "code",
   "execution_count": 54,
   "metadata": {},
   "outputs": [
    {
     "name": "stdout",
     "output_type": "stream",
     "text": [
      "10의 자리수\n"
     ]
    }
   ],
   "source": [
    "if number < 10:\n",
    "    print(\"1의 자리수\")\n",
    "\n",
    "elif number < 20:\n",
    "    print(\"10의 자리수\")\n",
    "\n",
    "elif number < 30:\n",
    "    print(\"20의 자리수\")\n",
    "\n",
    "else:\n",
    "    print(\"큰 수\")"
   ]
  },
  {
   "cell_type": "code",
   "execution_count": 55,
   "metadata": {},
   "outputs": [
    {
     "data": {
      "text/plain": [
       "False"
      ]
     },
     "execution_count": 55,
     "metadata": {},
     "output_type": "execute_result"
    }
   ],
   "source": [
    "model_name = 'iPhone XS'\n",
    "\n",
    "model_name == 'Galaxy 10s'"
   ]
  },
  {
   "cell_type": "markdown",
   "metadata": {},
   "source": [
    "### 반복문"
   ]
  },
  {
   "cell_type": "code",
   "execution_count": 61,
   "metadata": {},
   "outputs": [
    {
     "name": "stdout",
     "output_type": "stream",
     "text": [
      "19 * 1 = 19\n",
      "19 * 2 = 38\n",
      "19 * 3 = 57\n",
      "19 * 9 = 171\n"
     ]
    }
   ],
   "source": [
    "숫자 = 19\n",
    "\n",
    "print(\"{} * {} = {}\".format(숫자, 1, 숫자 * 1))\n",
    "print(\"{} * {} = {}\".format(숫자, 2, 숫자 * 2))\n",
    "print(\"{} * {} = {}\".format(숫자, 3, 숫자 * 3))\n",
    "# ...\n",
    "print(\"{} * {} = {}\".format(숫자, 9, 숫자 * 9))"
   ]
  },
  {
   "cell_type": "code",
   "execution_count": null,
   "metadata": {},
   "outputs": [],
   "source": []
  },
  {
   "cell_type": "code",
   "execution_count": 68,
   "metadata": {
    "collapsed": true
   },
   "outputs": [
    {
     "name": "stdout",
     "output_type": "stream",
     "text": [
      "1\n",
      "2\n",
      "3\n",
      "4\n",
      "5\n",
      "6\n",
      "7\n",
      "8\n",
      "9\n"
     ]
    }
   ],
   "source": [
    "for i in [1, 2, 3, 4, 5, 6, 7, 8, 9]:\n",
    "    print(i)"
   ]
  },
  {
   "cell_type": "code",
   "execution_count": null,
   "metadata": {},
   "outputs": [],
   "source": []
  },
  {
   "cell_type": "code",
   "execution_count": 72,
   "metadata": {},
   "outputs": [
    {
     "data": {
      "text/plain": [
       "range(1, 10)"
      ]
     },
     "execution_count": 72,
     "metadata": {},
     "output_type": "execute_result"
    }
   ],
   "source": [
    "# 일정범위로 증가하는 수의 목록을 만들어주는 함수\n",
    "range(1, 10, 1)  # 1이상, 10미만, 1씩 증가 => Generator"
   ]
  },
  {
   "cell_type": "code",
   "execution_count": 73,
   "metadata": {
    "collapsed": true
   },
   "outputs": [
    {
     "name": "stdout",
     "output_type": "stream",
     "text": [
      "1\n",
      "2\n",
      "3\n",
      "4\n",
      "5\n",
      "6\n",
      "7\n",
      "8\n",
      "9\n"
     ]
    }
   ],
   "source": [
    "for i in range(1, 10, 1):\n",
    "    print(i)"
   ]
  },
  {
   "cell_type": "code",
   "execution_count": 78,
   "metadata": {},
   "outputs": [
    {
     "name": "stdout",
     "output_type": "stream",
     "text": [
      "2 * 1 = 2\n",
      "2 * 2 = 4\n",
      "2 * 3 = 6\n",
      "2 * 4 = 8\n",
      "2 * 5 = 10\n",
      "2 * 6 = 12\n",
      "2 * 7 = 14\n",
      "2 * 8 = 16\n",
      "2 * 9 = 18\n"
     ]
    }
   ],
   "source": [
    "숫자 = 2\n",
    "\n",
    "for i in range(1, 10, 1):\n",
    "    print(\"{} * {} = {}\".format(숫자, i, 숫자 * i))"
   ]
  },
  {
   "cell_type": "code",
   "execution_count": 96,
   "metadata": {},
   "outputs": [
    {
     "name": "stdout",
     "output_type": "stream",
     "text": [
      "### 2단 ###\n",
      "2 * 1 = 2\n",
      "2 * 2 = 4\n",
      "2 * 3 = 6\n",
      "2 * 4 = 8\n",
      "2 * 5 = 10\n",
      "2 * 6 = 12\n",
      "2 * 7 = 14\n",
      "2 * 8 = 16\n",
      "2 * 9 = 18\n",
      "\n",
      "### 3단 ###\n",
      "3 * 1 = 3\n",
      "3 * 2 = 6\n",
      "3 * 3 = 9\n",
      "3 * 4 = 12\n",
      "3 * 5 = 15\n",
      "3 * 6 = 18\n",
      "3 * 7 = 21\n",
      "3 * 8 = 24\n",
      "3 * 9 = 27\n",
      "\n",
      "### 4단 ###\n",
      "4 * 1 = 4\n",
      "4 * 2 = 8\n",
      "4 * 3 = 12\n",
      "4 * 4 = 16\n",
      "4 * 5 = 20\n",
      "4 * 6 = 24\n",
      "4 * 7 = 28\n",
      "4 * 8 = 32\n",
      "4 * 9 = 36\n",
      "\n",
      "### 5단 ###\n",
      "5 * 1 = 5\n",
      "5 * 2 = 10\n",
      "5 * 3 = 15\n",
      "5 * 4 = 20\n",
      "5 * 5 = 25\n",
      "5 * 6 = 30\n",
      "5 * 7 = 35\n",
      "5 * 8 = 40\n",
      "5 * 9 = 45\n",
      "\n",
      "### 6단 ###\n",
      "6 * 1 = 6\n",
      "6 * 2 = 12\n",
      "6 * 3 = 18\n",
      "6 * 4 = 24\n",
      "6 * 5 = 30\n",
      "6 * 6 = 36\n",
      "6 * 7 = 42\n",
      "6 * 8 = 48\n",
      "6 * 9 = 54\n",
      "\n",
      "### 7단 ###\n",
      "7 * 1 = 7\n",
      "7 * 2 = 14\n",
      "7 * 3 = 21\n",
      "7 * 4 = 28\n",
      "7 * 5 = 35\n",
      "7 * 6 = 42\n",
      "7 * 7 = 49\n",
      "7 * 8 = 56\n",
      "7 * 9 = 63\n",
      "\n",
      "### 8단 ###\n",
      "8 * 1 = 8\n",
      "8 * 2 = 16\n",
      "8 * 3 = 24\n",
      "8 * 4 = 32\n",
      "8 * 5 = 40\n",
      "8 * 6 = 48\n",
      "8 * 7 = 56\n",
      "8 * 8 = 64\n",
      "8 * 9 = 72\n",
      "\n",
      "### 9단 ###\n",
      "9 * 1 = 9\n",
      "9 * 2 = 18\n",
      "9 * 3 = 27\n",
      "9 * 4 = 36\n",
      "9 * 5 = 45\n",
      "9 * 6 = 54\n",
      "9 * 7 = 63\n",
      "9 * 8 = 72\n",
      "9 * 9 = 81\n",
      "\n"
     ]
    }
   ],
   "source": [
    "for 숫자 in range(2, 10, 1):\n",
    "    print(\"### {}단 ###\".format(숫자))\n",
    "    for i in range(1, 10, 1):\n",
    "        print(\"{} * {} = {}\".format(숫자, i, 숫자 * i))\n",
    "    print()"
   ]
  },
  {
   "cell_type": "code",
   "execution_count": null,
   "metadata": {},
   "outputs": [],
   "source": []
  },
  {
   "cell_type": "code",
   "execution_count": 97,
   "metadata": {},
   "outputs": [
    {
     "data": {
      "text/plain": [
       "range(1, 10)"
      ]
     },
     "execution_count": 97,
     "metadata": {},
     "output_type": "execute_result"
    }
   ],
   "source": [
    "range(1, 10, 1)"
   ]
  },
  {
   "cell_type": "code",
   "execution_count": 99,
   "metadata": {},
   "outputs": [],
   "source": [
    "# import numpy as np\n",
    "\n",
    "# np.arange(1, 10, 0.01)"
   ]
  },
  {
   "cell_type": "code",
   "execution_count": null,
   "metadata": {},
   "outputs": [],
   "source": []
  },
  {
   "cell_type": "code",
   "execution_count": 100,
   "metadata": {},
   "outputs": [],
   "source": [
    "성적 = {'국어': 100, '영어': 90, '수학': 80}"
   ]
  },
  {
   "cell_type": "code",
   "execution_count": 102,
   "metadata": {
    "collapsed": true
   },
   "outputs": [
    {
     "name": "stdout",
     "output_type": "stream",
     "text": [
      "국어\n",
      "영어\n",
      "수학\n"
     ]
    }
   ],
   "source": [
    "for key in 성적:\n",
    "    print(key)"
   ]
  },
  {
   "cell_type": "code",
   "execution_count": 103,
   "metadata": {},
   "outputs": [
    {
     "data": {
      "text/plain": [
       "{'국어': 100, '영어': 90, '수학': 80}"
      ]
     },
     "execution_count": 103,
     "metadata": {},
     "output_type": "execute_result"
    }
   ],
   "source": [
    "성적"
   ]
  },
  {
   "cell_type": "code",
   "execution_count": 104,
   "metadata": {},
   "outputs": [
    {
     "data": {
      "text/plain": [
       "dict_keys(['국어', '영어', '수학'])"
      ]
     },
     "execution_count": 104,
     "metadata": {},
     "output_type": "execute_result"
    }
   ],
   "source": [
    "성적.keys()"
   ]
  },
  {
   "cell_type": "code",
   "execution_count": 105,
   "metadata": {},
   "outputs": [
    {
     "data": {
      "text/plain": [
       "dict_values([100, 90, 80])"
      ]
     },
     "execution_count": 105,
     "metadata": {},
     "output_type": "execute_result"
    }
   ],
   "source": [
    "성적.values()"
   ]
  },
  {
   "cell_type": "code",
   "execution_count": 106,
   "metadata": {},
   "outputs": [
    {
     "data": {
      "text/plain": [
       "dict_items([('국어', 100), ('영어', 90), ('수학', 80)])"
      ]
     },
     "execution_count": 106,
     "metadata": {},
     "output_type": "execute_result"
    }
   ],
   "source": [
    "성적.items()"
   ]
  },
  {
   "cell_type": "code",
   "execution_count": 113,
   "metadata": {},
   "outputs": [
    {
     "name": "stdout",
     "output_type": "stream",
     "text": [
      "국어\n",
      "영어\n",
      "수학\n"
     ]
    }
   ],
   "source": [
    "for key in 성적:  # 성적.keys()는 결과가 동일\n",
    "    print(key)"
   ]
  },
  {
   "cell_type": "code",
   "execution_count": 108,
   "metadata": {},
   "outputs": [
    {
     "name": "stdout",
     "output_type": "stream",
     "text": [
      "100\n",
      "90\n",
      "80\n"
     ]
    }
   ],
   "source": [
    "for value in 성적.values():\n",
    "    print(value)"
   ]
  },
  {
   "cell_type": "code",
   "execution_count": 114,
   "metadata": {},
   "outputs": [
    {
     "name": "stdout",
     "output_type": "stream",
     "text": [
      "국어 100\n",
      "영어 90\n",
      "수학 80\n"
     ]
    }
   ],
   "source": [
    "for key in 성적:  # 성적.keys()는 결과가 동일\n",
    "    value = 성적[key]\n",
    "    print(key, value)"
   ]
  },
  {
   "cell_type": "code",
   "execution_count": 115,
   "metadata": {},
   "outputs": [
    {
     "name": "stdout",
     "output_type": "stream",
     "text": [
      "국어 100\n",
      "영어 90\n",
      "수학 80\n"
     ]
    }
   ],
   "source": [
    "for key, value in 성적.items():\n",
    "    print(key, value)"
   ]
  },
  {
   "cell_type": "code",
   "execution_count": null,
   "metadata": {},
   "outputs": [],
   "source": []
  },
  {
   "cell_type": "code",
   "execution_count": 118,
   "metadata": {},
   "outputs": [
    {
     "data": {
      "text/plain": [
       "500500"
      ]
     },
     "execution_count": 118,
     "metadata": {},
     "output_type": "execute_result"
    }
   ],
   "source": [
    "합 = 0\n",
    "for i in range(1, 1001, 1):\n",
    "    합 += i\n",
    "합"
   ]
  },
  {
   "cell_type": "markdown",
   "metadata": {},
   "source": [
    "## 미션"
   ]
  },
  {
   "cell_type": "code",
   "execution_count": 120,
   "metadata": {
    "collapsed": true
   },
   "outputs": [
    {
     "name": "stdout",
     "output_type": "stream",
     "text": [
      "### 3단 ###\n",
      "3 * 1 = 3\n",
      "3 * 2 = 6\n",
      "3 * 3 = 9\n",
      "3 * 4 = 12\n",
      "3 * 5 = 15\n",
      "3 * 6 = 18\n",
      "3 * 7 = 21\n",
      "3 * 8 = 24\n",
      "3 * 9 = 27\n",
      "\n",
      "### 6단 ###\n",
      "6 * 1 = 6\n",
      "6 * 2 = 12\n",
      "6 * 3 = 18\n",
      "6 * 4 = 24\n",
      "6 * 5 = 30\n",
      "6 * 6 = 36\n",
      "6 * 7 = 42\n",
      "6 * 8 = 48\n",
      "6 * 9 = 54\n",
      "\n",
      "### 9단 ###\n",
      "9 * 1 = 9\n",
      "9 * 2 = 18\n",
      "9 * 3 = 27\n",
      "9 * 4 = 36\n",
      "9 * 5 = 45\n",
      "9 * 6 = 54\n",
      "9 * 7 = 63\n",
      "9 * 8 = 72\n",
      "9 * 9 = 81\n",
      "\n"
     ]
    }
   ],
   "source": [
    "for 숫자 in range(2, 10, 1):\n",
    "    if 숫자 % 3 == 0:\n",
    "        print(\"### {}단 ###\".format(숫자))\n",
    "        for i in range(1, 10, 1):\n",
    "            print(\"{} * {} = {}\".format(숫자, i, 숫자 * i))\n",
    "        print()"
   ]
  },
  {
   "cell_type": "code",
   "execution_count": 125,
   "metadata": {
    "collapsed": true
   },
   "outputs": [
    {
     "data": {
      "text/plain": [
       "315"
      ]
     },
     "execution_count": 125,
     "metadata": {},
     "output_type": "execute_result"
    }
   ],
   "source": [
    "합계 = 0\n",
    "for i in range(1, 100, 1):\n",
    "    if i % 3 == 0 and i % 5 == 0:\n",
    "        # print(i)\n",
    "        합계 += i\n",
    "합계"
   ]
  },
  {
   "cell_type": "code",
   "execution_count": 126,
   "metadata": {
    "collapsed": true
   },
   "outputs": [
    {
     "data": {
      "text/plain": [
       "315"
      ]
     },
     "execution_count": 126,
     "metadata": {},
     "output_type": "execute_result"
    }
   ],
   "source": [
    "합계 = 0\n",
    "for i in range(1, 100, 1):\n",
    "    if i % 15 == 0:\n",
    "        # print(i)\n",
    "        합계 += i\n",
    "합계"
   ]
  },
  {
   "cell_type": "code",
   "execution_count": 127,
   "metadata": {},
   "outputs": [
    {
     "data": {
      "text/plain": [
       "315"
      ]
     },
     "execution_count": 127,
     "metadata": {},
     "output_type": "execute_result"
    }
   ],
   "source": [
    "합계 = 0\n",
    "for i in range(15, 100, 15):\n",
    "    # print(i)\n",
    "    합계 += i\n",
    "합계"
   ]
  },
  {
   "cell_type": "code",
   "execution_count": 129,
   "metadata": {},
   "outputs": [
    {
     "data": {
      "text/plain": [
       "315"
      ]
     },
     "execution_count": 129,
     "metadata": {},
     "output_type": "execute_result"
    }
   ],
   "source": [
    "sum(range(15, 100, 15))"
   ]
  },
  {
   "cell_type": "code",
   "execution_count": 132,
   "metadata": {},
   "outputs": [
    {
     "data": {
      "text/plain": [
       "2450"
      ]
     },
     "execution_count": 132,
     "metadata": {},
     "output_type": "execute_result"
    }
   ],
   "source": [
    "sum(range(2, 100, 2))"
   ]
  },
  {
   "cell_type": "code",
   "execution_count": null,
   "metadata": {},
   "outputs": [],
   "source": []
  },
  {
   "cell_type": "code",
   "execution_count": 133,
   "metadata": {},
   "outputs": [
    {
     "data": {
      "text/plain": [
       "6"
      ]
     },
     "execution_count": 133,
     "metadata": {},
     "output_type": "execute_result"
    }
   ],
   "source": [
    "sum([1, 2, 3])"
   ]
  },
  {
   "cell_type": "code",
   "execution_count": 134,
   "metadata": {},
   "outputs": [
    {
     "ename": "TypeError",
     "evalue": "'int' object is not callable",
     "output_type": "error",
     "traceback": [
      "\u001b[0;31m---------------------------------------------------------------------------\u001b[0m",
      "\u001b[0;31mTypeError\u001b[0m                                 Traceback (most recent call last)",
      "\u001b[0;32m<ipython-input-134-7869c4e5f68e>\u001b[0m in \u001b[0;36m<module>\u001b[0;34m()\u001b[0m\n\u001b[1;32m      1\u001b[0m \u001b[0msum\u001b[0m \u001b[0;34m=\u001b[0m \u001b[0;36m0\u001b[0m\u001b[0;34m\u001b[0m\u001b[0;34m\u001b[0m\u001b[0m\n\u001b[0;32m----> 2\u001b[0;31m \u001b[0msum\u001b[0m\u001b[0;34m(\u001b[0m\u001b[0;34m[\u001b[0m\u001b[0;36m1\u001b[0m\u001b[0;34m,\u001b[0m \u001b[0;36m2\u001b[0m\u001b[0;34m,\u001b[0m \u001b[0;36m3\u001b[0m\u001b[0;34m]\u001b[0m\u001b[0;34m)\u001b[0m\u001b[0;34m\u001b[0m\u001b[0;34m\u001b[0m\u001b[0m\n\u001b[0m",
      "\u001b[0;31mTypeError\u001b[0m: 'int' object is not callable"
     ]
    }
   ],
   "source": [
    "sum = 0\n",
    "sum([1, 2, 3])"
   ]
  },
  {
   "cell_type": "code",
   "execution_count": 135,
   "metadata": {},
   "outputs": [],
   "source": [
    "del sum"
   ]
  },
  {
   "cell_type": "code",
   "execution_count": 136,
   "metadata": {},
   "outputs": [
    {
     "data": {
      "text/plain": [
       "6"
      ]
     },
     "execution_count": 136,
     "metadata": {},
     "output_type": "execute_result"
    }
   ],
   "source": [
    "sum([1, 2, 3])"
   ]
  },
  {
   "cell_type": "markdown",
   "metadata": {},
   "source": [
    "## 반복문을 활용한 그리기"
   ]
  },
  {
   "cell_type": "code",
   "execution_count": 138,
   "metadata": {},
   "outputs": [
    {
     "name": "stdout",
     "output_type": "stream",
     "text": [
      "\n",
      "*\n",
      "**\n",
      "***\n",
      "****\n",
      "*****\n",
      "\n"
     ]
    }
   ],
   "source": [
    "print('''\n",
    "*\n",
    "**\n",
    "***\n",
    "****\n",
    "*****\n",
    "''')"
   ]
  },
  {
   "cell_type": "code",
   "execution_count": 139,
   "metadata": {},
   "outputs": [
    {
     "data": {
      "text/plain": [
       "20"
      ]
     },
     "execution_count": 139,
     "metadata": {},
     "output_type": "execute_result"
    }
   ],
   "source": [
    "10 * 2"
   ]
  },
  {
   "cell_type": "code",
   "execution_count": 143,
   "metadata": {},
   "outputs": [
    {
     "data": {
      "text/plain": [
       "'***'"
      ]
     },
     "execution_count": 143,
     "metadata": {},
     "output_type": "execute_result"
    }
   ],
   "source": [
    "'*' * 3"
   ]
  },
  {
   "cell_type": "code",
   "execution_count": 154,
   "metadata": {},
   "outputs": [
    {
     "name": "stdout",
     "output_type": "stream",
     "text": [
      "*\n",
      "**\n",
      "***\n",
      "****\n",
      "*****\n"
     ]
    }
   ],
   "source": [
    "단 = 5\n",
    "\n",
    "for i in range(1, 단+1, 1):\n",
    "    # print(i)\n",
    "    print('*' * i)"
   ]
  },
  {
   "cell_type": "code",
   "execution_count": 151,
   "metadata": {},
   "outputs": [
    {
     "name": "stdout",
     "output_type": "stream",
     "text": [
      "ab\n"
     ]
    }
   ],
   "source": [
    "# Hint\n",
    "print('a', end='')\n",
    "print('b')"
   ]
  },
  {
   "cell_type": "code",
   "execution_count": 153,
   "metadata": {},
   "outputs": [
    {
     "data": {
      "text/plain": [
       "'         '"
      ]
     },
     "execution_count": 153,
     "metadata": {},
     "output_type": "execute_result"
    }
   ],
   "source": [
    "' ' * 9"
   ]
  },
  {
   "cell_type": "code",
   "execution_count": null,
   "metadata": {},
   "outputs": [],
   "source": []
  },
  {
   "cell_type": "code",
   "execution_count": 172,
   "metadata": {},
   "outputs": [
    {
     "name": "stdout",
     "output_type": "stream",
     "text": [
      "         *\n",
      "        ***\n",
      "       *****\n",
      "      *******\n",
      "     *********\n",
      "    ***********\n",
      "   *************\n",
      "  ***************\n",
      " *****************\n",
      "*******************\n",
      " *****************\n",
      "  ***************\n",
      "   *************\n",
      "    ***********\n",
      "     *********\n",
      "      *******\n",
      "       *****\n",
      "        ***\n",
      "         *\n"
     ]
    }
   ],
   "source": [
    "단 = 10\n",
    "\n",
    "for i in range(1, 단+1, 1):\n",
    "    print(' ' * (단-i), end='')\n",
    "    print('*' * (2 * i - 1))\n",
    "    \n",
    "for i in range(단-1, 0, -1):\n",
    "    print(' ' * (단-i), end='')\n",
    "    print('*' * (2 * i - 1))"
   ]
  },
  {
   "cell_type": "code",
   "execution_count": null,
   "metadata": {},
   "outputs": [],
   "source": []
  },
  {
   "cell_type": "code",
   "execution_count": null,
   "metadata": {},
   "outputs": [],
   "source": []
  },
  {
   "cell_type": "code",
   "execution_count": 179,
   "metadata": {
    "collapsed": true
   },
   "outputs": [
    {
     "name": "stdout",
     "output_type": "stream",
     "text": [
      "### 2단 ###\n",
      "2 * 1 = 2\n",
      "2 * 2 = 4\n",
      "\n",
      "### 3단 ###\n",
      "3 * 1 = 3\n",
      "3 * 2 = 6\n",
      "3 * 3 = 9\n",
      "\n",
      "### 4단 ###\n",
      "4 * 1 = 4\n",
      "4 * 2 = 8\n",
      "4 * 3 = 12\n",
      "4 * 4 = 16\n",
      "\n",
      "### 5단 ###\n",
      "5 * 1 = 5\n",
      "5 * 2 = 10\n",
      "5 * 3 = 15\n",
      "5 * 4 = 20\n",
      "5 * 5 = 25\n",
      "\n",
      "### 6단 ###\n",
      "6 * 1 = 6\n",
      "6 * 2 = 12\n",
      "6 * 3 = 18\n",
      "6 * 4 = 24\n",
      "6 * 5 = 30\n",
      "6 * 6 = 36\n",
      "\n",
      "### 7단 ###\n",
      "7 * 1 = 7\n",
      "7 * 2 = 14\n",
      "7 * 3 = 21\n",
      "7 * 4 = 28\n",
      "7 * 5 = 35\n",
      "7 * 6 = 42\n",
      "7 * 7 = 49\n",
      "\n",
      "### 8단 ###\n",
      "8 * 1 = 8\n",
      "8 * 2 = 16\n",
      "8 * 3 = 24\n",
      "8 * 4 = 32\n",
      "8 * 5 = 40\n",
      "8 * 6 = 48\n",
      "8 * 7 = 56\n",
      "8 * 8 = 64\n",
      "\n",
      "### 9단 ###\n",
      "9 * 1 = 9\n",
      "9 * 2 = 18\n",
      "9 * 3 = 27\n",
      "9 * 4 = 36\n",
      "9 * 5 = 45\n",
      "9 * 6 = 54\n",
      "9 * 7 = 63\n",
      "9 * 8 = 72\n",
      "9 * 9 = 81\n",
      "\n"
     ]
    }
   ],
   "source": [
    "for 숫자 in range(2, 10, 1):\n",
    "    print(\"### {}단 ###\".format(숫자))\n",
    "    for i in range(1, 10, 1):\n",
    "        print(\"{} * {} = {}\".format(숫자, i, 숫자 * i))\n",
    "        if 숫자 == i:\n",
    "            break\n",
    "    print()"
   ]
  },
  {
   "cell_type": "code",
   "execution_count": 182,
   "metadata": {
    "collapsed": true
   },
   "outputs": [
    {
     "name": "stdout",
     "output_type": "stream",
     "text": [
      "### 2단 ###\n",
      "2 * 1 = 2\n",
      "2 * 2 = 4\n",
      "\n",
      "### 3단 ###\n",
      "3 * 1 = 3\n",
      "3 * 2 = 6\n",
      "3 * 3 = 9\n",
      "\n",
      "### 4단 ###\n",
      "4 * 1 = 4\n",
      "4 * 2 = 8\n",
      "4 * 3 = 12\n",
      "4 * 4 = 16\n",
      "\n",
      "### 5단 ###\n",
      "5 * 1 = 5\n",
      "5 * 2 = 10\n",
      "5 * 3 = 15\n",
      "5 * 4 = 20\n",
      "5 * 5 = 25\n",
      "\n",
      "### 6단 ###\n",
      "6 * 1 = 6\n",
      "6 * 2 = 12\n",
      "6 * 3 = 18\n",
      "6 * 4 = 24\n",
      "6 * 5 = 30\n",
      "6 * 6 = 36\n",
      "\n",
      "### 7단 ###\n",
      "7 * 1 = 7\n",
      "7 * 2 = 14\n",
      "7 * 3 = 21\n",
      "7 * 4 = 28\n",
      "7 * 5 = 35\n",
      "7 * 6 = 42\n",
      "7 * 7 = 49\n",
      "\n",
      "### 8단 ###\n",
      "8 * 1 = 8\n",
      "8 * 2 = 16\n",
      "8 * 3 = 24\n",
      "8 * 4 = 32\n",
      "8 * 5 = 40\n",
      "8 * 6 = 48\n",
      "8 * 7 = 56\n",
      "8 * 8 = 64\n",
      "\n",
      "### 9단 ###\n",
      "9 * 1 = 9\n",
      "9 * 2 = 18\n",
      "9 * 3 = 27\n",
      "9 * 4 = 36\n",
      "9 * 5 = 45\n",
      "9 * 6 = 54\n",
      "9 * 7 = 63\n",
      "9 * 8 = 72\n",
      "9 * 9 = 81\n",
      "\n"
     ]
    }
   ],
   "source": [
    "for 숫자 in range(2, 10, 1):\n",
    "    print(\"### {}단 ###\".format(숫자))\n",
    "    for i in range(1, 10, 1):\n",
    "        if i <= 숫자:\n",
    "            print(\"{} * {} = {}\".format(숫자, i, 숫자 * i))\n",
    "    print()"
   ]
  },
  {
   "cell_type": "code",
   "execution_count": 183,
   "metadata": {
    "collapsed": true
   },
   "outputs": [
    {
     "name": "stdout",
     "output_type": "stream",
     "text": [
      "### 2단 ###\n",
      "2 * 1 = 2\n",
      "2 * 2 = 4\n",
      "\n",
      "### 3단 ###\n",
      "3 * 1 = 3\n",
      "3 * 2 = 6\n",
      "3 * 3 = 9\n",
      "\n",
      "### 4단 ###\n",
      "4 * 1 = 4\n",
      "4 * 2 = 8\n",
      "4 * 3 = 12\n",
      "4 * 4 = 16\n",
      "\n",
      "### 5단 ###\n",
      "5 * 1 = 5\n",
      "5 * 2 = 10\n",
      "5 * 3 = 15\n",
      "5 * 4 = 20\n",
      "5 * 5 = 25\n",
      "\n",
      "### 6단 ###\n",
      "6 * 1 = 6\n",
      "6 * 2 = 12\n",
      "6 * 3 = 18\n",
      "6 * 4 = 24\n",
      "6 * 5 = 30\n",
      "6 * 6 = 36\n",
      "\n",
      "### 7단 ###\n",
      "7 * 1 = 7\n",
      "7 * 2 = 14\n",
      "7 * 3 = 21\n",
      "7 * 4 = 28\n",
      "7 * 5 = 35\n",
      "7 * 6 = 42\n",
      "7 * 7 = 49\n",
      "\n",
      "### 8단 ###\n",
      "8 * 1 = 8\n",
      "8 * 2 = 16\n",
      "8 * 3 = 24\n",
      "8 * 4 = 32\n",
      "8 * 5 = 40\n",
      "8 * 6 = 48\n",
      "8 * 7 = 56\n",
      "8 * 8 = 64\n",
      "\n",
      "### 9단 ###\n",
      "9 * 1 = 9\n",
      "9 * 2 = 18\n",
      "9 * 3 = 27\n",
      "9 * 4 = 36\n",
      "9 * 5 = 45\n",
      "9 * 6 = 54\n",
      "9 * 7 = 63\n",
      "9 * 8 = 72\n",
      "9 * 9 = 81\n",
      "\n"
     ]
    }
   ],
   "source": [
    "for 숫자 in range(2, 10, 1):\n",
    "    print(\"### {}단 ###\".format(숫자))\n",
    "    for i in range(1, 숫자+1, 1):\n",
    "        print(\"{} * {} = {}\".format(숫자, i, 숫자 * i))\n",
    "    print()"
   ]
  },
  {
   "cell_type": "code",
   "execution_count": null,
   "metadata": {},
   "outputs": [],
   "source": []
  },
  {
   "cell_type": "markdown",
   "metadata": {},
   "source": [
    "## 샘플"
   ]
  },
  {
   "cell_type": "code",
   "execution_count": 185,
   "metadata": {},
   "outputs": [
    {
     "data": {
      "text/plain": [
       "[{'이름': '철수', '국어': 100, '영어': 80, '수학': 90},\n",
       " {'이름': '영희', '국어': 90, '영어': 70, '수학': 70},\n",
       " {'이름': '스티브', '국어': 50, '영어': 100, '수학': 50}]"
      ]
     },
     "execution_count": 185,
     "metadata": {},
     "output_type": "execute_result"
    }
   ],
   "source": [
    "학생_성적 = [\n",
    "    {'이름': '철수', '국어': 100, '영어': 80, '수학': 90},\n",
    "    {'이름': '영희', '국어': 90, '영어': 70, '수학': 70},\n",
    "    {'이름': '스티브', '국어': 50, '영어': 100, '수학': 50},\n",
    "]\n",
    "학생_성적"
   ]
  },
  {
   "cell_type": "code",
   "execution_count": 192,
   "metadata": {},
   "outputs": [
    {
     "data": {
      "text/plain": [
       "[{'이름': '철수', '국어': 100, '영어': 80, '수학': 90, '총점': 270, '평균': 90},\n",
       " {'이름': '영희', '국어': 90, '영어': 70, '수학': 70, '총점': 230, '평균': 76},\n",
       " {'이름': '스티브', '국어': 50, '영어': 100, '수학': 50, '총점': 200, '평균': 66}]"
      ]
     },
     "execution_count": 192,
     "metadata": {},
     "output_type": "execute_result"
    }
   ],
   "source": [
    "for 학생 in 학생_성적:\n",
    "    총점 = 학생['국어'] + 학생['영어'] + 학생['수학']\n",
    "    평균 = 총점 // 3\n",
    "    학생['총점'] = 총점\n",
    "    학생['평균'] = 평균\n",
    "#     print(총점, 평균)\n",
    "    \n",
    "학생_성적"
   ]
  },
  {
   "cell_type": "code",
   "execution_count": null,
   "metadata": {},
   "outputs": [],
   "source": []
  },
  {
   "cell_type": "code",
   "execution_count": 193,
   "metadata": {
    "collapsed": true
   },
   "outputs": [
    {
     "data": {
      "text/plain": [
       "[{'곡일련번호': 31346009,\n",
       "  '순위': 1,\n",
       "  '앨범': '삐삐',\n",
       "  '곡명': '삐삐',\n",
       "  '가수': '아이유',\n",
       "  '커버이미지_주소': 'https://cdnimg.melon.co.kr/cm/album/images/102/10/535/10210535_500.jpg/melon/resize/120/quality/80/optimize',\n",
       "  '좋아요': 61528},\n",
       " {'곡일련번호': 31344113,\n",
       "  '순위': 2,\n",
       "  '앨범': '시간이 들겠지',\n",
       "  '곡명': '시간이 들겠지 (Feat. Colde)',\n",
       "  '가수': '로꼬',\n",
       "  '커버이미지_주소': 'https://cdnimg.melon.co.kr/cm/album/images/102/10/198/10210198_500.jpg/melon/resize/120/quality/80/optimize',\n",
       "  '좋아요': 48331},\n",
       " {'곡일련번호': 31340985,\n",
       "  '순위': 3,\n",
       "  '앨범': '쇼미더머니 777 Episode 1',\n",
       "  '곡명': 'Good Day (Feat. 팔로알토) (Prod. 코드 쿤스트)',\n",
       "  '가수': 'pH-1',\n",
       "  '커버이미지_주소': 'https://cdnimg.melon.co.kr/cm/album/images/102/09/647/10209647_500.jpg/melon/resize/120/quality/80/optimize',\n",
       "  '좋아요': 54022},\n",
       " {'곡일련번호': 31316695,\n",
       "  '순위': 4,\n",
       "  '앨범': '하루도 그대를 사랑하지 않은 적이 없었다',\n",
       "  '곡명': '하루도 그대를 사랑하지 않은 적이 없었다',\n",
       "  '가수': '임창정',\n",
       "  '커버이미지_주소': 'https://cdnimg.melon.co.kr/cm/album/images/102/05/805/10205805_500.jpg/melon/resize/120/quality/80/optimize',\n",
       "  '좋아요': 97984},\n",
       " {'곡일련번호': 31266290,\n",
       "  '순위': 5,\n",
       "  '앨범': 'LOVE YOURSELF 結 `Answer`',\n",
       "  '곡명': 'IDOL',\n",
       "  '가수': '방탄소년단',\n",
       "  '커버이미지_주소': 'https://cdnimg.melon.co.kr/cm/album/images/101/97/480/10197480_500.jpg/melon/resize/120/quality/80/optimize',\n",
       "  '좋아요': 173279},\n",
       " {'곡일련번호': 31331745,\n",
       "  '순위': 6,\n",
       "  '앨범': 'NEW KIDS : THE FINAL',\n",
       "  '곡명': '이별길 (GOODBYE ROAD)',\n",
       "  '가수': 'iKON',\n",
       "  '커버이미지_주소': 'https://cdnimg.melon.co.kr/cm/album/images/102/08/358/10208358_500.jpg/melon/resize/120/quality/80/optimize',\n",
       "  '좋아요': 55396},\n",
       " {'곡일련번호': 31340982,\n",
       "  '순위': 7,\n",
       "  '앨범': '쇼미더머니 777 Episode 1',\n",
       "  '곡명': '사임사임 (Feat. CHANGMO)',\n",
       "  '가수': 'Coogie',\n",
       "  '커버이미지_주소': 'https://cdnimg.melon.co.kr/cm/album/images/102/09/647/10209647_500.jpg/melon/resize/120/quality/80/optimize',\n",
       "  '좋아요': 27564},\n",
       " {'곡일련번호': 31266289,\n",
       "  '순위': 8,\n",
       "  '앨범': 'LOVE YOURSELF 結 `Answer`',\n",
       "  '곡명': 'I`m Fine',\n",
       "  '가수': '방탄소년단',\n",
       "  '커버이미지_주소': 'https://cdnimg.melon.co.kr/cm/album/images/101/97/480/10197480_500.jpg/melon/resize/120/quality/80/optimize',\n",
       "  '좋아요': 132847},\n",
       " {'곡일련번호': 31314142,\n",
       "  '순위': 9,\n",
       "  '앨범': '우리 그만하자',\n",
       "  '곡명': '우리 그만하자',\n",
       "  '가수': '로이킴',\n",
       "  '커버이미지_주소': 'https://cdnimg.melon.co.kr/cm/album/images/102/05/438/10205438_500.jpg/melon/resize/120/quality/80/optimize',\n",
       "  '좋아요': 95771},\n",
       " {'곡일련번호': 31085237,\n",
       "  '순위': 10,\n",
       "  '앨범': 'LOVE YOURSELF 轉 `Tear`',\n",
       "  '곡명': 'FAKE LOVE',\n",
       "  '가수': '방탄소년단',\n",
       "  '커버이미지_주소': 'https://cdnimg.melon.co.kr/cm/album/images/101/68/559/10168559_500.jpg/melon/resize/120/quality/80/optimize',\n",
       "  '좋아요': 253847},\n",
       " {'곡일련번호': 31314144,\n",
       "  '순위': 11,\n",
       "  '앨범': '가을 타나 봐',\n",
       "  '곡명': '가을 타나 봐',\n",
       "  '가수': '바이브',\n",
       "  '커버이미지_주소': 'https://cdnimg.melon.co.kr/cm/album/images/102/05/439/10205439_500.jpg/melon/resize/120/quality/80/optimize',\n",
       "  '좋아요': 28056},\n",
       " {'곡일련번호': 31266282,\n",
       "  '순위': 12,\n",
       "  '앨범': 'LOVE YOURSELF 結 `Answer`',\n",
       "  '곡명': 'Euphoria',\n",
       "  '가수': '방탄소년단',\n",
       "  '커버이미지_주소': 'https://cdnimg.melon.co.kr/cm/album/images/101/97/480/10197480_500.jpg/melon/resize/120/quality/80/optimize',\n",
       "  '좋아요': 129017},\n",
       " {'곡일련번호': 31302310,\n",
       "  '순위': 13,\n",
       "  '앨범': '헤어지는 중',\n",
       "  '곡명': '헤어지는 중',\n",
       "  '가수': '펀치 (Punch)',\n",
       "  '커버이미지_주소': 'https://cdnimg.melon.co.kr/cm/album/images/102/03/500/10203500_500.jpg/melon/resize/120/quality/80/optimize',\n",
       "  '좋아요': 77050},\n",
       " {'곡일련번호': 31266291,\n",
       "  '순위': 14,\n",
       "  '앨범': 'LOVE YOURSELF 結 `Answer`',\n",
       "  '곡명': 'Answer : Love Myself',\n",
       "  '가수': '방탄소년단',\n",
       "  '커버이미지_주소': 'https://cdnimg.melon.co.kr/cm/album/images/101/97/480/10197480_500.jpg/melon/resize/120/quality/80/optimize',\n",
       "  '좋아요': 108151},\n",
       " {'곡일련번호': 31085238,\n",
       "  '순위': 15,\n",
       "  '앨범': 'LOVE YOURSELF 轉 `Tear`',\n",
       "  '곡명': '전하지 못한 진심 (Feat. Steve Aoki)',\n",
       "  '가수': '방탄소년단',\n",
       "  '커버이미지_주소': 'https://cdnimg.melon.co.kr/cm/album/images/101/68/559/10168559_500.jpg/melon/resize/120/quality/80/optimize',\n",
       "  '좋아요': 176653},\n",
       " {'곡일련번호': 31266288,\n",
       "  '순위': 16,\n",
       "  '앨범': 'LOVE YOURSELF 結 `Answer`',\n",
       "  '곡명': 'Epiphany',\n",
       "  '가수': '방탄소년단',\n",
       "  '커버이미지_주소': 'https://cdnimg.melon.co.kr/cm/album/images/101/97/480/10197480_500.jpg/melon/resize/120/quality/80/optimize',\n",
       "  '좋아요': 101011},\n",
       " {'곡일련번호': 31266286,\n",
       "  '순위': 17,\n",
       "  '앨범': 'LOVE YOURSELF 結 `Answer`',\n",
       "  '곡명': 'Trivia 轉 : Seesaw',\n",
       "  '가수': '방탄소년단',\n",
       "  '커버이미지_주소': 'https://cdnimg.melon.co.kr/cm/album/images/101/97/480/10197480_500.jpg/melon/resize/120/quality/80/optimize',\n",
       "  '좋아요': 98436},\n",
       " {'곡일련번호': 30962526,\n",
       "  '순위': 18,\n",
       "  '앨범': '`키스 먼저 할까요?` OST Part.3',\n",
       "  '곡명': '모든 날, 모든 순간 (Every day, Every Moment)',\n",
       "  '가수': '폴킴',\n",
       "  '커버이미지_주소': 'https://cdnimg.melon.co.kr/cm/album/images/101/49/492/10149492_500.jpg/melon/resize/120/quality/80/optimize',\n",
       "  '좋아요': 185706},\n",
       " {'곡일련번호': 31280273,\n",
       "  '순위': 19,\n",
       "  '앨범': 'YOUNG',\n",
       "  '곡명': 'YOUNG',\n",
       "  '가수': '백현 (BAEKHYUN)',\n",
       "  '커버이미지_주소': 'https://cdnimg.melon.co.kr/cm/album/images/101/99/959/10199959_500.jpg/melon/resize/120/quality/80/optimize',\n",
       "  '좋아요': 91106},\n",
       " {'곡일련번호': 31266292,\n",
       "  '순위': 20,\n",
       "  '앨범': 'LOVE YOURSELF 結 `Answer`',\n",
       "  '곡명': 'Trivia 起 : Just Dance',\n",
       "  '가수': '방탄소년단',\n",
       "  '커버이미지_주소': 'https://cdnimg.melon.co.kr/cm/album/images/101/97/480/10197480_500.jpg/melon/resize/120/quality/80/optimize',\n",
       "  '좋아요': 88970},\n",
       " {'곡일련번호': 31286161,\n",
       "  '순위': 21,\n",
       "  '앨범': 'WARNING',\n",
       "  '곡명': '사이렌 (Siren)',\n",
       "  '가수': '선미',\n",
       "  '커버이미지_주소': 'https://cdnimg.melon.co.kr/cm/album/images/102/00/838/10200838_500.jpg/melon/resize/120/quality/80/optimize',\n",
       "  '좋아요': 91516},\n",
       " {'곡일련번호': 31266300,\n",
       "  '순위': 22,\n",
       "  '앨범': 'LOVE YOURSELF 結 `Answer`',\n",
       "  '곡명': 'Trivia 承 : Love',\n",
       "  '가수': '방탄소년단',\n",
       "  '커버이미지_주소': 'https://cdnimg.melon.co.kr/cm/album/images/101/97/480/10197480_500.jpg/melon/resize/120/quality/80/optimize',\n",
       "  '좋아요': 83610},\n",
       " {'곡일련번호': 31062863,\n",
       "  '순위': 23,\n",
       "  '앨범': 'RECIPE',\n",
       "  '곡명': '열애중',\n",
       "  '가수': '벤',\n",
       "  '커버이미지_주소': 'https://cdnimg.melon.co.kr/cm/album/images/101/64/839/10164839_500.jpg/melon/resize/120/quality/80/optimize',\n",
       "  '좋아요': 115805},\n",
       " {'곡일련번호': 31151836,\n",
       "  '순위': 24,\n",
       "  '앨범': 'Take',\n",
       "  '곡명': 'Way Back Home',\n",
       "  '가수': '숀 (SHAUN)',\n",
       "  '커버이미지_주소': 'https://cdnimg.melon.co.kr/cm/album/images/101/79/508/10179508_500.jpg/melon/resize/120/quality/80/optimize',\n",
       "  '좋아요': 225308},\n",
       " {'곡일련번호': 31085244,\n",
       "  '순위': 25,\n",
       "  '앨범': 'LOVE YOURSELF 轉 `Tear`',\n",
       "  '곡명': 'Anpanman',\n",
       "  '가수': '방탄소년단',\n",
       "  '커버이미지_주소': 'https://cdnimg.melon.co.kr/cm/album/images/101/68/559/10168559_500.jpg/melon/resize/120/quality/80/optimize',\n",
       "  '좋아요': 138694},\n",
       " {'곡일련번호': 30244931,\n",
       "  '순위': 26,\n",
       "  '앨범': 'YOU NEVER WALK ALONE',\n",
       "  '곡명': '봄날',\n",
       "  '가수': '방탄소년단',\n",
       "  '커버이미지_주소': 'https://cdnimg.melon.co.kr/cm/album/images/100/37/969/10037969_500.jpg/melon/resize/120/quality/80/optimize',\n",
       "  '좋아요': 359130},\n",
       " {'곡일련번호': 30637982,\n",
       "  '순위': 27,\n",
       "  '앨범': 'LOVE YOURSELF 承 `Her`',\n",
       "  '곡명': 'DNA',\n",
       "  '가수': '방탄소년단',\n",
       "  '커버이미지_주소': 'https://cdnimg.melon.co.kr/cm/album/images/100/97/112/10097112_500.jpg/melon/resize/120/quality/80/optimize',\n",
       "  '좋아요': 323911},\n",
       " {'곡일련번호': 31085243,\n",
       "  '순위': 28,\n",
       "  '앨범': 'LOVE YOURSELF 轉 `Tear`',\n",
       "  '곡명': 'Airplane pt.2',\n",
       "  '가수': '방탄소년단',\n",
       "  '커버이미지_주소': 'https://cdnimg.melon.co.kr/cm/album/images/101/68/559/10168559_500.jpg/melon/resize/120/quality/80/optimize',\n",
       "  '좋아요': 127355},\n",
       " {'곡일련번호': 30806536,\n",
       "  '순위': 29,\n",
       "  '앨범': 'Universe - 겨울 스페셜 앨범, 2017',\n",
       "  '곡명': 'Universe',\n",
       "  '가수': 'EXO',\n",
       "  '커버이미지_주소': 'https://cdnimg.melon.co.kr/cm/album/images/101/22/917/10122917_500.jpg/melon/resize/120/quality/80/optimize',\n",
       "  '좋아요': 155809},\n",
       " {'곡일련번호': 31309079,\n",
       "  '순위': 30,\n",
       "  '앨범': 'We Young',\n",
       "  '곡명': 'We Young',\n",
       "  '가수': '찬열',\n",
       "  '커버이미지_주소': 'https://cdnimg.melon.co.kr/cm/album/images/102/04/604/10204604_500.jpg/melon/resize/120/quality/80/optimize',\n",
       "  '좋아요': 53852},\n",
       " {'곡일련번호': 31219546,\n",
       "  '순위': 31,\n",
       "  '앨범': 'Dingo X Indigo Music',\n",
       "  '곡명': 'flex (Prod. By 기리보이)',\n",
       "  '가수': '기리보이',\n",
       "  '커버이미지_주소': 'https://cdnimg.melon.co.kr/cm/album/images/101/89/965/10189965_500.jpg/melon/resize/120/quality/80/optimize',\n",
       "  '좋아요': 72135},\n",
       " {'곡일련번호': 31009483,\n",
       "  '순위': 32,\n",
       "  '앨범': 'Blooming Days - The 2nd Mini Album',\n",
       "  '곡명': '花요일 (Blooming Day)',\n",
       "  '가수': 'EXO-CBX (첸백시)',\n",
       "  '커버이미지_주소': 'https://cdnimg.melon.co.kr/cm/album/images/101/56/597/10156597_500.jpg/melon/resize/120/quality/80/optimize',\n",
       "  '좋아요': 110311},\n",
       " {'곡일련번호': 31144690,\n",
       "  '순위': 33,\n",
       "  '앨범': 'IM',\n",
       "  '곡명': 'IndiGO',\n",
       "  '가수': '저스디스 (JUSTHIS)',\n",
       "  '커버이미지_주소': 'https://cdnimg.melon.co.kr/cm/album/images/101/78/566/10178566_500.jpg/melon/resize/120/quality/80/optimize',\n",
       "  '좋아요': 46739},\n",
       " {'곡일련번호': 31278454,\n",
       "  '순위': 34,\n",
       "  '앨범': 'Sheep (Alan Walker Relift)',\n",
       "  '곡명': 'Sheep (Alan Walker Relift)',\n",
       "  '가수': '레이 (LAY)',\n",
       "  '커버이미지_주소': 'https://cdnimg.melon.co.kr/cm/album/images/101/99/693/10199693_500.jpg/melon/resize/120/quality/80/optimize',\n",
       "  '좋아요': 30411},\n",
       " {'곡일련번호': 31131273,\n",
       "  '순위': 35,\n",
       "  '앨범': 'SQUARE UP',\n",
       "  '곡명': '뚜두뚜두 (DDU-DU DDU-DU)',\n",
       "  '가수': 'BLACKPINK',\n",
       "  '커버이미지_주소': 'https://cdnimg.melon.co.kr/cm/album/images/101/76/415/10176415_500.jpg/melon/resize/120/quality/80/optimize',\n",
       "  '좋아요': 192831},\n",
       " {'곡일련번호': 30699142,\n",
       "  '순위': 36,\n",
       "  '앨범': 'About You',\n",
       "  '곡명': '지나오다',\n",
       "  '가수': '닐로 (Nilo)',\n",
       "  '커버이미지_주소': 'https://cdnimg.melon.co.kr/cm/album/images/101/06/853/10106853_500.jpg/melon/resize/120/quality/80/optimize',\n",
       "  '좋아요': 178367},\n",
       " {'곡일련번호': 31175119,\n",
       "  '순위': 37,\n",
       "  '앨범': 'Summer Nights',\n",
       "  '곡명': 'Dance The Night Away',\n",
       "  '가수': 'TWICE (트와이스)',\n",
       "  '커버이미지_주소': 'https://cdnimg.melon.co.kr/cm/album/images/101/83/127/10183127_500.jpg/melon/resize/120/quality/80/optimize',\n",
       "  '좋아요': 127052},\n",
       " {'곡일련번호': 31331750,\n",
       "  '순위': 38,\n",
       "  '앨범': 'r',\n",
       "  '곡명': '나',\n",
       "  '가수': '박원',\n",
       "  '커버이미지_주소': 'https://cdnimg.melon.co.kr/cm/album/images/102/08/360/10208360_500.jpg/melon/resize/120/quality/80/optimize',\n",
       "  '좋아요': 26696},\n",
       " {'곡일련번호': 31113240,\n",
       "  '순위': 39,\n",
       "  '앨범': '1÷χ=1 (UNDIVIDED)',\n",
       "  '곡명': '켜줘 (Light)',\n",
       "  '가수': 'Wanna One (워너원)',\n",
       "  '커버이미지_주소': 'https://cdnimg.melon.co.kr/cm/album/images/101/73/365/10173365_500.jpg/melon/resize/120/quality/80/optimize',\n",
       "  '좋아요': 112878},\n",
       " {'곡일련번호': 31230093,\n",
       "  '순위': 40,\n",
       "  '앨범': 'Summer Magic - Summer Mini Album',\n",
       "  '곡명': 'Power Up',\n",
       "  '가수': 'Red Velvet (레드벨벳)',\n",
       "  '커버이미지_주소': 'https://cdnimg.melon.co.kr/cm/album/images/101/91/694/10191694_500.jpg/melon/resize/120/quality/80/optimize',\n",
       "  '좋아요': 130949},\n",
       " {'곡일련번호': 30568338,\n",
       "  '순위': 41,\n",
       "  '앨범': '1X1=1(TO BE ONE)',\n",
       "  '곡명': '에너제틱 (Energetic)',\n",
       "  '가수': 'Wanna One (워너원)',\n",
       "  '커버이미지_주소': 'https://cdnimg.melon.co.kr/cm/album/images/100/85/951/10085951_500.jpg/melon/resize/120/quality/80/optimize',\n",
       "  '좋아요': 268394},\n",
       " {'곡일련번호': 30859584,\n",
       "  '순위': 42,\n",
       "  '앨범': 'Return',\n",
       "  '곡명': '사랑을 했다 (LOVE SCENARIO)',\n",
       "  '가수': 'iKON',\n",
       "  '커버이미지_주소': 'https://cdnimg.melon.co.kr/cm/album/images/101/32/945/10132945_500.jpg/melon/resize/120/quality/80/optimize',\n",
       "  '좋아요': 267692},\n",
       " {'곡일련번호': 31304766,\n",
       "  '순위': 43,\n",
       "  '앨범': '이별하러 가는 길',\n",
       "  '곡명': '이별하러 가는 길',\n",
       "  '가수': '임한별',\n",
       "  '커버이미지_주소': 'https://cdnimg.melon.co.kr/cm/album/images/102/03/965/10203965_500.jpg/melon/resize/120/quality/80/optimize',\n",
       "  '좋아요': 25182},\n",
       " {'곡일련번호': 30960341,\n",
       "  '순위': 44,\n",
       "  '앨범': '0+1=1 (I PROMISE YOU)',\n",
       "  '곡명': 'BOOMERANG (부메랑)',\n",
       "  '가수': 'Wanna One (워너원)',\n",
       "  '커버이미지_주소': 'https://cdnimg.melon.co.kr/cm/album/images/101/44/723/10144723_2_500.jpg/melon/resize/120/quality/80/optimize',\n",
       "  '좋아요': 124968},\n",
       " {'곡일련번호': 30725482,\n",
       "  '순위': 45,\n",
       "  '앨범': '1-1=0 (NOTHING WITHOUT YOU)',\n",
       "  '곡명': 'Beautiful',\n",
       "  '가수': 'Wanna One (워너원)',\n",
       "  '커버이미지_주소': 'https://cdnimg.melon.co.kr/cm/album/images/101/11/029/10111029_500.jpg/melon/resize/120/quality/80/optimize',\n",
       "  '좋아요': 216065},\n",
       " {'곡일련번호': 31093710,\n",
       "  '순위': 46,\n",
       "  '앨범': 'Red Diary Page.2',\n",
       "  '곡명': '여행',\n",
       "  '가수': '볼빨간사춘기',\n",
       "  '커버이미지_주소': 'https://cdnimg.melon.co.kr/cm/album/images/101/70/069/10170069_500.jpg/melon/resize/120/quality/80/optimize',\n",
       "  '좋아요': 190489},\n",
       " {'곡일련번호': 31113241,\n",
       "  '순위': 47,\n",
       "  '앨범': '1÷χ=1 (UNDIVIDED)',\n",
       "  '곡명': '캥거루 (Kangaroo) (Prod. ZICO)',\n",
       "  '가수': 'Wanna One (워너원) - 트리플포지션',\n",
       "  '커버이미지_주소': 'https://cdnimg.melon.co.kr/cm/album/images/101/73/365/10173365_500.jpg/melon/resize/120/quality/80/optimize',\n",
       "  '좋아요': 104852},\n",
       " {'곡일련번호': 31189241,\n",
       "  '순위': 48,\n",
       "  '앨범': 'RED MOON',\n",
       "  '곡명': '너나 해 (Egotistic)',\n",
       "  '가수': '마마무(Mamamoo)',\n",
       "  '커버이미지_주소': 'https://cdnimg.melon.co.kr/cm/album/images/101/85/416/10185416_500.jpg/melon/resize/120/quality/80/optimize',\n",
       "  '좋아요': 94861},\n",
       " {'곡일련번호': 30884950,\n",
       "  '순위': 49,\n",
       "  '앨범': '그때 헤어지면 돼',\n",
       "  '곡명': '그때 헤어지면 돼',\n",
       "  '가수': '로이킴',\n",
       "  '커버이미지_주소': 'https://cdnimg.melon.co.kr/cm/album/images/101/37/574/10137574_500.jpg/melon/resize/120/quality/80/optimize',\n",
       "  '좋아요': 176025},\n",
       " {'곡일련번호': 30809895,\n",
       "  '순위': 50,\n",
       "  '앨범': 'inside',\n",
       "  '곡명': '미안해',\n",
       "  '가수': '양다일',\n",
       "  '커버이미지_주소': 'https://cdnimg.melon.co.kr/cm/album/images/101/23/639/10123639_500.jpg/melon/resize/120/quality/80/optimize',\n",
       "  '좋아요': 115955},\n",
       " {'곡일련번호': 31224316,\n",
       "  '순위': 51,\n",
       "  '앨범': 'NEW KIDS : CONTINUE',\n",
       "  '곡명': '죽겠다 (KILLING ME)',\n",
       "  '가수': 'iKON',\n",
       "  '커버이미지_주소': 'https://cdnimg.melon.co.kr/cm/album/images/101/90/854/10190854_500.jpg/melon/resize/120/quality/80/optimize',\n",
       "  '좋아요': 66253},\n",
       " {'곡일련번호': 8235260,\n",
       "  '순위': 52,\n",
       "  '앨범': '비',\n",
       "  '곡명': '비',\n",
       "  '가수': '폴킴',\n",
       "  '커버이미지_주소': 'https://cdnimg.melon.co.kr/cm/album/images/026/92/501/2692501_500.jpg/melon/resize/120/quality/80/optimize',\n",
       "  '좋아요': 156761},\n",
       " {'곡일련번호': 30669593,\n",
       "  '순위': 53,\n",
       "  '앨범': '가을 안부',\n",
       "  '곡명': '가을 안부',\n",
       "  '가수': '먼데이 키즈 (Monday Kiz)',\n",
       "  '커버이미지_주소': 'https://cdnimg.melon.co.kr/cm/album/images/101/02/177/10102177_500.jpg/melon/resize/120/quality/80/optimize',\n",
       "  '좋아요': 109447},\n",
       " {'곡일련번호': 31133898,\n",
       "  '순위': 54,\n",
       "  '앨범': 'THIS IS US',\n",
       "  '곡명': '너 없인 안 된다',\n",
       "  '가수': '비투비',\n",
       "  '커버이미지_주소': 'https://cdnimg.melon.co.kr/cm/album/images/101/75/106/10175106_500.jpg/melon/resize/120/quality/80/optimize',\n",
       "  '좋아요': 132726},\n",
       " {'곡일련번호': 31346039,\n",
       "  '순위': 55,\n",
       "  '앨범': 'ABOUT ME',\n",
       "  '곡명': 'Not A Love',\n",
       "  '가수': '바이브',\n",
       "  '커버이미지_주소': 'https://cdnimg.melon.co.kr/cm/album/images/102/10/541/10210541_500.jpg/melon/resize/120/quality/80/optimize',\n",
       "  '좋아요': 2508},\n",
       " {'곡일련번호': 31164090,\n",
       "  '순위': 56,\n",
       "  '앨범': 'The Fairy Tale',\n",
       "  '곡명': '동화',\n",
       "  '가수': '멜로망스',\n",
       "  '커버이미지_주소': 'https://cdnimg.melon.co.kr/cm/album/images/101/81/438/10181438_500.jpg/melon/resize/120/quality/80/optimize',\n",
       "  '좋아요': 81522},\n",
       " {'곡일련번호': 31199873,\n",
       "  '순위': 57,\n",
       "  '앨범': 'THE GREAT SEUNGRI',\n",
       "  '곡명': '셋 셀테니 (1, 2, 3!)',\n",
       "  '가수': '승리',\n",
       "  '커버이미지_주소': 'https://cdnimg.melon.co.kr/cm/album/images/101/87/129/10187129_500.jpg/melon/resize/120/quality/80/optimize',\n",
       "  '좋아요': 78381},\n",
       " {'곡일련번호': 31161280,\n",
       "  '순위': 58,\n",
       "  '앨범': 'ONE & SIX',\n",
       "  '곡명': '1도 없어',\n",
       "  '가수': 'Apink (에이핑크)',\n",
       "  '커버이미지_주소': 'https://cdnimg.melon.co.kr/cm/album/images/101/81/013/10181013_500.jpg/melon/resize/120/quality/80/optimize',\n",
       "  '좋아요': 88037},\n",
       " {'곡일련번호': 30314784,\n",
       "  '순위': 59,\n",
       "  '앨범': '밤편지',\n",
       "  '곡명': '밤편지',\n",
       "  '가수': '아이유',\n",
       "  '커버이미지_주소': 'https://cdnimg.melon.co.kr/cm/album/images/100/47/890/10047890_500.jpg/melon/resize/120/quality/80/optimize',\n",
       "  '좋아요': 283167},\n",
       " {'곡일련번호': 31215747,\n",
       "  '순위': 60,\n",
       "  '앨범': 'SoulMate',\n",
       "  '곡명': 'SoulMate (Feat. 아이유)',\n",
       "  '가수': '지코 (ZICO)',\n",
       "  '커버이미지_주소': 'https://cdnimg.melon.co.kr/cm/album/images/101/89/402/10189402_500.jpg/melon/resize/120/quality/80/optimize',\n",
       "  '좋아요': 113443},\n",
       " {'곡일련번호': 31189085,\n",
       "  '순위': 61,\n",
       "  '앨범': 'SEVENTEEN 5TH MINI ALBUM `YOU MAKE MY DAY`',\n",
       "  '곡명': '어쩌나',\n",
       "  '가수': '세븐틴',\n",
       "  '커버이미지_주소': 'https://cdnimg.melon.co.kr/cm/album/images/101/85/387/10185387_500.jpg/melon/resize/120/quality/80/optimize',\n",
       "  '좋아요': 64770},\n",
       " {'곡일련번호': 31244486,\n",
       "  '순위': 62,\n",
       "  '앨범': 'A-TEEN Part.3',\n",
       "  '곡명': 'A-TEEN',\n",
       "  '가수': '세븐틴',\n",
       "  '커버이미지_주소': 'https://cdnimg.melon.co.kr/cm/album/images/101/94/044/10194044_500.jpg/melon/resize/120/quality/80/optimize',\n",
       "  '좋아요': 75932},\n",
       " {'곡일련번호': 30755375,\n",
       "  '순위': 63,\n",
       "  '앨범': '그날처럼',\n",
       "  '곡명': '그날처럼',\n",
       "  '가수': '장덕철',\n",
       "  '커버이미지_주소': 'https://cdnimg.melon.co.kr/cm/album/images/101/15/186/10115186_500.jpg/melon/resize/120/quality/80/optimize',\n",
       "  '좋아요': 208427},\n",
       " {'곡일련번호': 31113243,\n",
       "  '순위': 64,\n",
       "  '앨범': '1÷χ=1 (UNDIVIDED)',\n",
       "  '곡명': '모래시계 (Prod. 헤이즈)',\n",
       "  '가수': 'Wanna One (워너원) - 더힐',\n",
       "  '커버이미지_주소': 'https://cdnimg.melon.co.kr/cm/album/images/101/73/365/10173365_500.jpg/melon/resize/120/quality/80/optimize',\n",
       "  '좋아요': 83296},\n",
       " {'곡일련번호': 30672529,\n",
       "  '순위': 65,\n",
       "  '앨범': 'Brother Act.',\n",
       "  '곡명': '그리워하다',\n",
       "  '가수': '비투비',\n",
       "  '커버이미지_주소': 'https://cdnimg.melon.co.kr/cm/album/images/101/02/658/10102658_500.jpg/melon/resize/120/quality/80/optimize',\n",
       "  '좋아요': 203463},\n",
       " {'곡일련번호': 9642570,\n",
       "  '순위': 66,\n",
       "  '앨범': '넋두리',\n",
       "  '곡명': '넋두리',\n",
       "  '가수': '닐로 (Nilo)',\n",
       "  '커버이미지_주소': 'https://cdnimg.melon.co.kr/cm/album/images/027/10/553/2710553_500.jpg/melon/resize/120/quality/80/optimize',\n",
       "  '좋아요': 81028},\n",
       " {'곡일련번호': 30930312,\n",
       "  '순위': 67,\n",
       "  '앨범': '0+1=1 (I PROMISE YOU)',\n",
       "  '곡명': '약속해요 (I.P.U.)',\n",
       "  '가수': 'Wanna One (워너원)',\n",
       "  '커버이미지_주소': 'https://cdnimg.melon.co.kr/cm/album/images/101/44/723/10144723_2_500.jpg/melon/resize/120/quality/80/optimize',\n",
       "  '좋아요': 137141},\n",
       " {'곡일련번호': 31263577,\n",
       "  '순위': 68,\n",
       "  '앨범': '4.1',\n",
       "  '곡명': '매트리스',\n",
       "  '가수': '10cm',\n",
       "  '커버이미지_주소': 'https://cdnimg.melon.co.kr/cm/album/images/101/96/980/10196980_500.jpg/melon/resize/120/quality/80/optimize',\n",
       "  '좋아요': 62312},\n",
       " {'곡일련번호': 31340983,\n",
       "  '순위': 69,\n",
       "  '앨범': '쇼미더머니 777 Episode 1',\n",
       "  '곡명': '공상과학기술 (Feat. 기리보이, 스윙스)',\n",
       "  '가수': 'nafla',\n",
       "  '커버이미지_주소': 'https://cdnimg.melon.co.kr/cm/album/images/102/09/647/10209647_500.jpg/melon/resize/120/quality/80/optimize',\n",
       "  '좋아요': 13148},\n",
       " {'곡일련번호': 31131274,\n",
       "  '순위': 70,\n",
       "  '앨범': 'SQUARE UP',\n",
       "  '곡명': 'Forever Young',\n",
       "  '가수': 'BLACKPINK',\n",
       "  '커버이미지_주소': 'https://cdnimg.melon.co.kr/cm/album/images/101/76/415/10176415_500.jpg/melon/resize/120/quality/80/optimize',\n",
       "  '좋아요': 119422},\n",
       " {'곡일련번호': 31246870,\n",
       "  '순위': 71,\n",
       "  '앨범': '한(一)',\n",
       "  '곡명': '한(一)',\n",
       "  '가수': '(여자)아이들',\n",
       "  '커버이미지_주소': 'https://cdnimg.melon.co.kr/cm/album/images/101/94/362/10194362_500.jpg/melon/resize/120/quality/80/optimize',\n",
       "  '좋아요': 69062},\n",
       " {'곡일련번호': 31035061,\n",
       "  '순위': 72,\n",
       "  '앨범': '건반 위의 하이에나 Part.4',\n",
       "  '곡명': '주지마',\n",
       "  '가수': '로꼬',\n",
       "  '커버이미지_주소': 'https://cdnimg.melon.co.kr/cm/album/images/101/60/487/10160487_500.jpg/melon/resize/120/quality/80/optimize',\n",
       "  '좋아요': 154263},\n",
       " {'곡일련번호': 31147211,\n",
       "  '순위': 73,\n",
       "  '앨범': 'WHO, YOU',\n",
       "  '곡명': 'Dejavu',\n",
       "  '가수': '뉴이스트 W',\n",
       "  '커버이미지_주소': 'https://cdnimg.melon.co.kr/cm/album/images/101/78/912/10178912_500.jpg/melon/resize/120/quality/80/optimize',\n",
       "  '좋아요': 53081},\n",
       " {'곡일련번호': 30849733,\n",
       "  '순위': 74,\n",
       "  '앨범': '투유 프로젝트 - 슈가맨2 Part.2',\n",
       "  '곡명': 'You',\n",
       "  '가수': '멜로망스',\n",
       "  '커버이미지_주소': 'https://cdnimg.melon.co.kr/cm/album/images/101/31/018/10131018_500.jpg/melon/resize/120/quality/80/optimize',\n",
       "  '좋아요': 141103},\n",
       " {'곡일련번호': 31340984,\n",
       "  '순위': 75,\n",
       "  '앨범': '쇼미더머니 777 Episode 1',\n",
       "  '곡명': '패 (Feat. 넉살, 딥플로우)',\n",
       "  '가수': '김효은',\n",
       "  '커버이미지_주소': 'https://cdnimg.melon.co.kr/cm/album/images/102/09/647/10209647_500.jpg/melon/resize/120/quality/80/optimize',\n",
       "  '좋아요': 10536},\n",
       " {'곡일련번호': 31309947,\n",
       "  '순위': 76,\n",
       "  '앨범': 'A-TEEN Part.4',\n",
       "  '곡명': '도망가지마',\n",
       "  '가수': '모트 (Motte)',\n",
       "  '커버이미지_주소': 'https://cdnimg.melon.co.kr/cm/album/images/102/04/722/10204722_500.jpg/melon/resize/120/quality/80/optimize',\n",
       "  '좋아요': 48716},\n",
       " {'곡일련번호': 30721801,\n",
       "  '순위': 77,\n",
       "  '앨범': '돈꽃 OST Part.1',\n",
       "  '곡명': 'My Way',\n",
       "  '가수': '이수 (엠씨 더 맥스)',\n",
       "  '커버이미지_주소': 'https://cdnimg.melon.co.kr/cm/album/images/101/10/396/10110396_500.jpg/melon/resize/120/quality/80/optimize',\n",
       "  '좋아요': 119657},\n",
       " {'곡일련번호': 30514366,\n",
       "  '순위': 78,\n",
       "  '앨범': 'Moonlight',\n",
       "  '곡명': '선물',\n",
       "  '가수': '멜로망스',\n",
       "  '커버이미지_주소': 'https://cdnimg.melon.co.kr/cm/album/images/100/78/176/10078176_500.jpg/melon/resize/120/quality/80/optimize',\n",
       "  '좋아요': 266869},\n",
       " {'곡일련번호': 31227367,\n",
       "  '순위': 79,\n",
       "  '앨범': '미스터 션샤인 OST Part.5',\n",
       "  '곡명': '좋은 날',\n",
       "  '가수': '멜로망스',\n",
       "  '커버이미지_주소': 'https://cdnimg.melon.co.kr/cm/album/images/101/91/294/10191294_500.jpg/melon/resize/120/quality/80/optimize',\n",
       "  '좋아요': 33146},\n",
       " {'곡일련번호': 31113242,\n",
       "  '순위': 80,\n",
       "  '앨범': '1÷χ=1 (UNDIVIDED)',\n",
       "  '곡명': '영원+1 (Prod. NELL)',\n",
       "  '가수': 'Wanna One (워너원) - 린온미',\n",
       "  '커버이미지_주소': 'https://cdnimg.melon.co.kr/cm/album/images/101/73/365/10173365_500.jpg/melon/resize/120/quality/80/optimize',\n",
       "  '좋아요': 76313},\n",
       " {'곡일련번호': 31266377,\n",
       "  '순위': 81,\n",
       "  '앨범': '미스터 션샤인 OST Part.10',\n",
       "  '곡명': 'AND I',\n",
       "  '가수': '뉴이스트 W',\n",
       "  '커버이미지_주소': 'https://cdnimg.melon.co.kr/cm/album/images/101/97/500/10197500_500.jpg/melon/resize/120/quality/80/optimize',\n",
       "  '좋아요': 20736},\n",
       " {'곡일련번호': 31331749,\n",
       "  '순위': 82,\n",
       "  '앨범': 'I Don’t Care (with 스푼즈)',\n",
       "  '곡명': 'I Don’t Care (with 스푼즈)',\n",
       "  '가수': '뉴이스트 W',\n",
       "  '커버이미지_주소': 'https://cdnimg.melon.co.kr/cm/album/images/102/08/359/10208359_500.jpg/melon/resize/120/quality/80/optimize',\n",
       "  '좋아요': 13544},\n",
       " {'곡일련번호': 31147212,\n",
       "  '순위': 83,\n",
       "  '앨범': 'WHO, YOU',\n",
       "  '곡명': '북극성 (Polaris)',\n",
       "  '가수': '뉴이스트 W',\n",
       "  '커버이미지_주소': 'https://cdnimg.melon.co.kr/cm/album/images/101/78/912/10178912_500.jpg/melon/resize/120/quality/80/optimize',\n",
       "  '좋아요': 32098},\n",
       " {'곡일련번호': 30970444,\n",
       "  '순위': 84,\n",
       "  '앨범': '소나기 (Feat. 10cm)',\n",
       "  '곡명': '소나기 (Feat. 10cm)',\n",
       "  '가수': '용준형',\n",
       "  '커버이미지_주소': 'https://cdnimg.melon.co.kr/cm/album/images/101/50/572/10150572_500.jpg/melon/resize/120/quality/80/optimize',\n",
       "  '좋아요': 130935},\n",
       " {'곡일련번호': 31113244,\n",
       "  '순위': 85,\n",
       "  '앨범': '1÷χ=1 (UNDIVIDED)',\n",
       "  '곡명': '11 (Prod. 다이나믹듀오)',\n",
       "  '가수': 'Wanna One (워너원) - 남바완',\n",
       "  '커버이미지_주소': 'https://cdnimg.melon.co.kr/cm/album/images/101/73/365/10173365_500.jpg/melon/resize/120/quality/80/optimize',\n",
       "  '좋아요': 67211},\n",
       " {'곡일련번호': 4032981,\n",
       "  '순위': 86,\n",
       "  '앨범': 'THE SECOND MINI ALBUM `여보세요`',\n",
       "  '곡명': '여보세요',\n",
       "  '가수': 'NU`EST',\n",
       "  '커버이미지_주소': 'https://cdnimg.melon.co.kr/cm/album/images/021/75/137/2175137_500.jpg/melon/resize/120/quality/80/optimize',\n",
       "  '좋아요': 126064},\n",
       " {'곡일련번호': 31299371,\n",
       "  '순위': 87,\n",
       "  '앨범': '라이프 OST Part.6',\n",
       "  '곡명': '잘 지내요',\n",
       "  '가수': '정승환',\n",
       "  '커버이미지_주소': 'https://cdnimg.melon.co.kr/cm/album/images/102/02/962/10202962_500.jpg/melon/resize/120/quality/80/optimize',\n",
       "  '좋아요': 25169},\n",
       " {'곡일련번호': 30806539,\n",
       "  '순위': 88,\n",
       "  '앨범': 'Universe - 겨울 스페셜 앨범, 2017',\n",
       "  '곡명': '지나갈 테니 (Been Through)',\n",
       "  '가수': 'EXO',\n",
       "  '커버이미지_주소': 'https://cdnimg.melon.co.kr/cm/album/images/101/22/917/10122917_500.jpg/melon/resize/120/quality/80/optimize',\n",
       "  '좋아요': 88331},\n",
       " {'곡일련번호': 31324696,\n",
       "  '순위': 89,\n",
       "  '앨범': '연애플레이리스트3 Part.1',\n",
       "  '곡명': 'Perfect',\n",
       "  '가수': '10cm',\n",
       "  '커버이미지_주소': 'https://cdnimg.melon.co.kr/cm/album/images/102/07/153/10207153_500.jpg/melon/resize/120/quality/80/optimize',\n",
       "  '좋아요': 24732},\n",
       " {'곡일련번호': 8111603,\n",
       "  '순위': 90,\n",
       "  '앨범': 'Fitz and The Tantrums (Deluxe)',\n",
       "  '곡명': 'HandClap',\n",
       "  '가수': 'Fitz & The Tantrums',\n",
       "  '커버이미지_주소': 'https://cdnimg.melon.co.kr/cm/album/images/026/75/179/2675179_500.jpg/melon/resize/120/quality/80/optimize',\n",
       "  '좋아요': 156476},\n",
       " {'곡일련번호': 30661885,\n",
       "  '순위': 91,\n",
       "  '앨범': 'W, HERE',\n",
       "  '곡명': 'WHERE YOU AT',\n",
       "  '가수': '뉴이스트 W',\n",
       "  '커버이미지_주소': 'https://cdnimg.melon.co.kr/cm/album/images/101/00/941/10100941_500.jpg/melon/resize/120/quality/80/optimize',\n",
       "  '좋아요': 92753},\n",
       " {'곡일련번호': 31006730,\n",
       "  '순위': 92,\n",
       "  '앨범': 'What is Love?',\n",
       "  '곡명': 'What is Love?',\n",
       "  '가수': 'TWICE (트와이스)',\n",
       "  '커버이미지_주소': 'https://cdnimg.melon.co.kr/cm/album/images/101/56/195/10156195_500.jpg/melon/resize/120/quality/80/optimize',\n",
       "  '좋아요': 121530},\n",
       " {'곡일련번호': 31052421,\n",
       "  '순위': 93,\n",
       "  '앨범': \"여자친구 The 6th Mini Album 'Time for the moon night'\",\n",
       "  '곡명': '밤 (Time for the moon night)',\n",
       "  '가수': '여자친구 (GFRIEND)',\n",
       "  '커버이미지_주소': 'https://cdnimg.melon.co.kr/cm/album/images/101/63/106/10163106_500.jpg/melon/resize/120/quality/80/optimize',\n",
       "  '좋아요': 125760},\n",
       " {'곡일련번호': 31194610,\n",
       "  '순위': 94,\n",
       "  '앨범': 'Blooming Blue',\n",
       "  '곡명': 'Love U',\n",
       "  '가수': '청하',\n",
       "  '커버이미지_주소': 'https://cdnimg.melon.co.kr/cm/album/images/101/86/254/10186254_500.jpg/melon/resize/120/quality/80/optimize',\n",
       "  '좋아요': 61670},\n",
       " {'곡일련번호': 31147210,\n",
       "  '순위': 95,\n",
       "  '앨범': 'WHO, YOU',\n",
       "  '곡명': 'Signal',\n",
       "  '가수': '뉴이스트 W',\n",
       "  '커버이미지_주소': 'https://cdnimg.melon.co.kr/cm/album/images/101/78/912/10178912_500.jpg/melon/resize/120/quality/80/optimize',\n",
       "  '좋아요': 27270},\n",
       " {'곡일련번호': 30937275,\n",
       "  '순위': 96,\n",
       "  '앨범': 'Yellow Flower',\n",
       "  '곡명': '별이 빛나는 밤',\n",
       "  '가수': '마마무(Mamamoo)',\n",
       "  '커버이미지_주소': 'https://cdnimg.melon.co.kr/cm/album/images/101/45/303/10145303_500.jpg/melon/resize/120/quality/80/optimize',\n",
       "  '좋아요': 145494},\n",
       " {'곡일련번호': 31147213,\n",
       "  '순위': 97,\n",
       "  '앨범': 'WHO, YOU',\n",
       "  '곡명': 'ylenoL',\n",
       "  '가수': '뉴이스트 W',\n",
       "  '커버이미지_주소': 'https://cdnimg.melon.co.kr/cm/album/images/101/78/912/10178912_500.jpg/melon/resize/120/quality/80/optimize',\n",
       "  '좋아요': 26136},\n",
       " {'곡일련번호': 31288765,\n",
       "  '순위': 98,\n",
       "  '앨범': '몰랐니 - The 1st Single Album',\n",
       "  '곡명': '몰랐니 (Lil` Touch)',\n",
       "  '가수': '소녀시대-Oh!GG',\n",
       "  '커버이미지_주소': 'https://cdnimg.melon.co.kr/cm/album/images/102/01/272/10201272_500.jpg/melon/resize/120/quality/80/optimize',\n",
       "  '좋아요': 42853},\n",
       " {'곡일련번호': 31147214,\n",
       "  '순위': 99,\n",
       "  '앨범': 'WHO, YOU',\n",
       "  '곡명': '중력달 (Gravity&Moon;)',\n",
       "  '가수': '뉴이스트 W',\n",
       "  '커버이미지_주소': 'https://cdnimg.melon.co.kr/cm/album/images/101/78/912/10178912_500.jpg/melon/resize/120/quality/80/optimize',\n",
       "  '좋아요': 26091},\n",
       " {'곡일련번호': 30806540,\n",
       "  '순위': 100,\n",
       "  '앨범': 'Universe - 겨울 스페셜 앨범, 2017',\n",
       "  '곡명': 'Stay',\n",
       "  '가수': 'EXO',\n",
       "  '커버이미지_주소': 'https://cdnimg.melon.co.kr/cm/album/images/101/22/917/10122917_500.jpg/melon/resize/120/quality/80/optimize',\n",
       "  '좋아요': 81556}]"
      ]
     },
     "execution_count": 193,
     "metadata": {},
     "output_type": "execute_result"
    }
   ],
   "source": [
    "import pandas as pd\n",
    "\n",
    "df = pd.read_csv(\"https://goo.gl/iDUKrL\")  # SSL Error\n",
    "\n",
    "data = df.to_dict()\n",
    "columns = data.keys()\n",
    "song_list = [\n",
    "    {column: data[column][idx] for column in columns}\n",
    "    for idx in range(100)]\n",
    "\n",
    "song_list"
   ]
  },
  {
   "cell_type": "code",
   "execution_count": 194,
   "metadata": {},
   "outputs": [
    {
     "data": {
      "text/plain": [
       "100"
      ]
     },
     "execution_count": 194,
     "metadata": {},
     "output_type": "execute_result"
    }
   ],
   "source": [
    "len(song_list)"
   ]
  },
  {
   "cell_type": "markdown",
   "metadata": {},
   "source": [
    "### 1) 방탄소년단의 곡명 출력해보세요."
   ]
  },
  {
   "cell_type": "code",
   "execution_count": 197,
   "metadata": {
    "collapsed": true
   },
   "outputs": [
    {
     "name": "stdout",
     "output_type": "stream",
     "text": [
      "IDOL\n",
      "I`m Fine\n",
      "FAKE LOVE\n",
      "Euphoria\n",
      "Answer : Love Myself\n",
      "전하지 못한 진심 (Feat. Steve Aoki)\n",
      "Epiphany\n",
      "Trivia 轉 : Seesaw\n",
      "Trivia 起 : Just Dance\n",
      "Trivia 承 : Love\n",
      "Anpanman\n",
      "봄날\n",
      "DNA\n",
      "Airplane pt.2\n"
     ]
    }
   ],
   "source": [
    "for song in song_list:\n",
    "    if song['가수'] == '방탄소년단':\n",
    "        print(song['곡명'])"
   ]
  },
  {
   "cell_type": "markdown",
   "metadata": {},
   "source": [
    "### 2) 곡명에 \"가을\"이 포함된 곡명을 출력"
   ]
  },
  {
   "cell_type": "code",
   "execution_count": 210,
   "metadata": {},
   "outputs": [
    {
     "name": "stdout",
     "output_type": "stream",
     "text": [
      "가을 타나 봐\n",
      "가을 안부\n"
     ]
    }
   ],
   "source": [
    "for song in song_list:\n",
    "    if '가을' in song['곡명']:\n",
    "        print(song['곡명'])"
   ]
  },
  {
   "cell_type": "markdown",
   "metadata": {},
   "source": [
    "### 3) \"좋아요\"수가 200000이 넘는 곡명을 출력 => 곡수를 출력"
   ]
  },
  {
   "cell_type": "code",
   "execution_count": 209,
   "metadata": {},
   "outputs": [
    {
     "data": {
      "text/plain": [
       "False"
      ]
     },
     "execution_count": 209,
     "metadata": {},
     "output_type": "execute_result"
    }
   ],
   "source": [
    "song = song_list[0]\n",
    "song['좋아요'] > 200000"
   ]
  },
  {
   "cell_type": "code",
   "execution_count": 213,
   "metadata": {
    "collapsed": true
   },
   "outputs": [
    {
     "name": "stdout",
     "output_type": "stream",
     "text": [
      "FAKE LOVE\n",
      "Way Back Home\n",
      "봄날\n",
      "DNA\n",
      "에너제틱 (Energetic)\n",
      "사랑을 했다 (LOVE SCENARIO)\n",
      "Beautiful\n",
      "밤편지\n",
      "그날처럼\n",
      "그리워하다\n",
      "선물\n"
     ]
    },
    {
     "data": {
      "text/plain": [
       "11"
      ]
     },
     "execution_count": 213,
     "metadata": {},
     "output_type": "execute_result"
    }
   ],
   "source": [
    "곡수 = 0\n",
    "for song in song_list:\n",
    "    if song['좋아요'] > 200000:\n",
    "        print(song['곡명'])\n",
    "        곡수 += 1\n",
    "곡수"
   ]
  },
  {
   "cell_type": "markdown",
   "metadata": {},
   "source": [
    "### 4)  가수별 곡수를 dict 변수에 저장하고, 출력하세요."
   ]
  },
  {
   "cell_type": "code",
   "execution_count": 226,
   "metadata": {
    "collapsed": true
   },
   "outputs": [
    {
     "data": {
      "text/plain": [
       "{'아이유': 2,\n",
       " '로꼬': 2,\n",
       " 'pH-1': 1,\n",
       " '임창정': 1,\n",
       " '방탄소년단': 14,\n",
       " 'iKON': 3,\n",
       " 'Coogie': 1,\n",
       " '로이킴': 2,\n",
       " '바이브': 2,\n",
       " '펀치 (Punch)': 1,\n",
       " '폴킴': 2,\n",
       " '백현 (BAEKHYUN)': 1,\n",
       " '선미': 1,\n",
       " '벤': 1,\n",
       " '숀 (SHAUN)': 1,\n",
       " 'EXO': 3,\n",
       " '찬열': 1,\n",
       " '기리보이': 1,\n",
       " 'EXO-CBX (첸백시)': 1,\n",
       " '저스디스 (JUSTHIS)': 1,\n",
       " '레이 (LAY)': 1,\n",
       " 'BLACKPINK': 2,\n",
       " '닐로 (Nilo)': 2,\n",
       " 'TWICE (트와이스)': 2,\n",
       " '박원': 1,\n",
       " 'Wanna One (워너원)': 5,\n",
       " 'Red Velvet (레드벨벳)': 1,\n",
       " '임한별': 1,\n",
       " '볼빨간사춘기': 1,\n",
       " 'Wanna One (워너원) - 트리플포지션': 1,\n",
       " '마마무(Mamamoo)': 2,\n",
       " '양다일': 1,\n",
       " '먼데이 키즈 (Monday Kiz)': 1,\n",
       " '비투비': 2,\n",
       " '멜로망스': 4,\n",
       " '승리': 1,\n",
       " 'Apink (에이핑크)': 1,\n",
       " '지코 (ZICO)': 1,\n",
       " '세븐틴': 2,\n",
       " '장덕철': 1,\n",
       " 'Wanna One (워너원) - 더힐': 1,\n",
       " '10cm': 2,\n",
       " 'nafla': 1,\n",
       " '(여자)아이들': 1,\n",
       " '뉴이스트 W': 8,\n",
       " '김효은': 1,\n",
       " '모트 (Motte)': 1,\n",
       " '이수 (엠씨 더 맥스)': 1,\n",
       " 'Wanna One (워너원) - 린온미': 1,\n",
       " '용준형': 1,\n",
       " 'Wanna One (워너원) - 남바완': 1,\n",
       " 'NU`EST': 1,\n",
       " '정승환': 1,\n",
       " 'Fitz & The Tantrums': 1,\n",
       " '여자친구 (GFRIEND)': 1,\n",
       " '청하': 1,\n",
       " '소녀시대-Oh!GG': 1}"
      ]
     },
     "execution_count": 226,
     "metadata": {},
     "output_type": "execute_result"
    }
   ],
   "source": [
    "가수별_곡수 = {}  # {'방탄소년단': 14, '아이유': 2}\n",
    "\n",
    "for song in song_list:\n",
    "    가수 = song['가수']\n",
    "    if 가수 not in 가수별_곡수:\n",
    "        가수별_곡수[가수] = 0\n",
    "    가수별_곡수[가수] += 1\n",
    "가수별_곡수"
   ]
  },
  {
   "cell_type": "code",
   "execution_count": 229,
   "metadata": {},
   "outputs": [],
   "source": [
    "from collections import defaultdict"
   ]
  },
  {
   "cell_type": "code",
   "execution_count": 230,
   "metadata": {
    "collapsed": true
   },
   "outputs": [
    {
     "data": {
      "text/plain": [
       "defaultdict(int,\n",
       "            {'아이유': 2,\n",
       "             '로꼬': 2,\n",
       "             'pH-1': 1,\n",
       "             '임창정': 1,\n",
       "             '방탄소년단': 14,\n",
       "             'iKON': 3,\n",
       "             'Coogie': 1,\n",
       "             '로이킴': 2,\n",
       "             '바이브': 2,\n",
       "             '펀치 (Punch)': 1,\n",
       "             '폴킴': 2,\n",
       "             '백현 (BAEKHYUN)': 1,\n",
       "             '선미': 1,\n",
       "             '벤': 1,\n",
       "             '숀 (SHAUN)': 1,\n",
       "             'EXO': 3,\n",
       "             '찬열': 1,\n",
       "             '기리보이': 1,\n",
       "             'EXO-CBX (첸백시)': 1,\n",
       "             '저스디스 (JUSTHIS)': 1,\n",
       "             '레이 (LAY)': 1,\n",
       "             'BLACKPINK': 2,\n",
       "             '닐로 (Nilo)': 2,\n",
       "             'TWICE (트와이스)': 2,\n",
       "             '박원': 1,\n",
       "             'Wanna One (워너원)': 5,\n",
       "             'Red Velvet (레드벨벳)': 1,\n",
       "             '임한별': 1,\n",
       "             '볼빨간사춘기': 1,\n",
       "             'Wanna One (워너원) - 트리플포지션': 1,\n",
       "             '마마무(Mamamoo)': 2,\n",
       "             '양다일': 1,\n",
       "             '먼데이 키즈 (Monday Kiz)': 1,\n",
       "             '비투비': 2,\n",
       "             '멜로망스': 4,\n",
       "             '승리': 1,\n",
       "             'Apink (에이핑크)': 1,\n",
       "             '지코 (ZICO)': 1,\n",
       "             '세븐틴': 2,\n",
       "             '장덕철': 1,\n",
       "             'Wanna One (워너원) - 더힐': 1,\n",
       "             '10cm': 2,\n",
       "             'nafla': 1,\n",
       "             '(여자)아이들': 1,\n",
       "             '뉴이스트 W': 8,\n",
       "             '김효은': 1,\n",
       "             '모트 (Motte)': 1,\n",
       "             '이수 (엠씨 더 맥스)': 1,\n",
       "             'Wanna One (워너원) - 린온미': 1,\n",
       "             '용준형': 1,\n",
       "             'Wanna One (워너원) - 남바완': 1,\n",
       "             'NU`EST': 1,\n",
       "             '정승환': 1,\n",
       "             'Fitz & The Tantrums': 1,\n",
       "             '여자친구 (GFRIEND)': 1,\n",
       "             '청하': 1,\n",
       "             '소녀시대-Oh!GG': 1})"
      ]
     },
     "execution_count": 230,
     "metadata": {},
     "output_type": "execute_result"
    }
   ],
   "source": [
    "가수별_곡수 = defaultdict(int)  # {'방탄소년단': 14, '아이유': 2}\n",
    "\n",
    "for song in song_list:\n",
    "    가수 = song['가수']\n",
    "    가수별_곡수[가수] += 1\n",
    "가수별_곡수"
   ]
  },
  {
   "cell_type": "code",
   "execution_count": 244,
   "metadata": {},
   "outputs": [
    {
     "data": {
      "text/plain": [
       "Counter({'아이유': 2,\n",
       "         '로꼬': 2,\n",
       "         'pH-1': 1,\n",
       "         '임창정': 1,\n",
       "         '방탄소년단': 14,\n",
       "         'iKON': 3,\n",
       "         'Coogie': 1,\n",
       "         '로이킴': 2,\n",
       "         '바이브': 2,\n",
       "         '펀치 (Punch)': 1,\n",
       "         '폴킴': 2,\n",
       "         '백현 (BAEKHYUN)': 1,\n",
       "         '선미': 1,\n",
       "         '벤': 1,\n",
       "         '숀 (SHAUN)': 1,\n",
       "         'EXO': 3,\n",
       "         '찬열': 1,\n",
       "         '기리보이': 1,\n",
       "         'EXO-CBX (첸백시)': 1,\n",
       "         '저스디스 (JUSTHIS)': 1,\n",
       "         '레이 (LAY)': 1,\n",
       "         'BLACKPINK': 2,\n",
       "         '닐로 (Nilo)': 2,\n",
       "         'TWICE (트와이스)': 2,\n",
       "         '박원': 1,\n",
       "         'Wanna One (워너원)': 5,\n",
       "         'Red Velvet (레드벨벳)': 1,\n",
       "         '임한별': 1,\n",
       "         '볼빨간사춘기': 1,\n",
       "         'Wanna One (워너원) - 트리플포지션': 1,\n",
       "         '마마무(Mamamoo)': 2,\n",
       "         '양다일': 1,\n",
       "         '먼데이 키즈 (Monday Kiz)': 1,\n",
       "         '비투비': 2,\n",
       "         '멜로망스': 4,\n",
       "         '승리': 1,\n",
       "         'Apink (에이핑크)': 1,\n",
       "         '지코 (ZICO)': 1,\n",
       "         '세븐틴': 2,\n",
       "         '장덕철': 1,\n",
       "         'Wanna One (워너원) - 더힐': 1,\n",
       "         '10cm': 2,\n",
       "         'nafla': 1,\n",
       "         '(여자)아이들': 1,\n",
       "         '뉴이스트 W': 8,\n",
       "         '김효은': 1,\n",
       "         '모트 (Motte)': 1,\n",
       "         '이수 (엠씨 더 맥스)': 1,\n",
       "         'Wanna One (워너원) - 린온미': 1,\n",
       "         '용준형': 1,\n",
       "         'Wanna One (워너원) - 남바완': 1,\n",
       "         'NU`EST': 1,\n",
       "         '정승환': 1,\n",
       "         'Fitz & The Tantrums': 1,\n",
       "         '여자친구 (GFRIEND)': 1,\n",
       "         '청하': 1,\n",
       "         '소녀시대-Oh!GG': 1})"
      ]
     },
     "execution_count": 244,
     "metadata": {},
     "output_type": "execute_result"
    }
   ],
   "source": [
    "from collections import Counter\n",
    "\n",
    "# 가수_리스트 = []\n",
    "# for song in song_list:\n",
    "#     가수_리스트.append(song['가수'])\n",
    "\n",
    "# List Comprehension\n",
    "가수_리스트 = [song['가수'] for song in song_list]    \n",
    "\n",
    "# len(set(가수_리스트))\n",
    "\n",
    "Counter(가수_리스트)"
   ]
  },
  {
   "cell_type": "code",
   "execution_count": null,
   "metadata": {},
   "outputs": [],
   "source": []
  },
  {
   "cell_type": "code",
   "execution_count": 252,
   "metadata": {},
   "outputs": [
    {
     "data": {
      "text/plain": [
       "<matplotlib.axes._subplots.AxesSubplot at 0x11eddeb00>"
      ]
     },
     "execution_count": 252,
     "metadata": {},
     "output_type": "execute_result"
    },
    {
     "data": {
      "image/png": "[encoded data removed]",
      "text/plain": [
       "<Figure size 432x288 with 1 Axes>"
      ]
     },
     "metadata": {},
     "output_type": "display_data"
    }
   ],
   "source": [
    "%matplotlib inline\n",
    "\n",
    "df = pd.DataFrame(song_list)\n",
    "df['가수'].value_counts()[:10].plot.pie()"
   ]
  },
  {
   "cell_type": "code",
   "execution_count": null,
   "metadata": {},
   "outputs": [],
   "source": []
  },
  {
   "cell_type": "code",
   "execution_count": null,
   "metadata": {},
   "outputs": [],
   "source": []
  },
  {
   "cell_type": "code",
   "execution_count": null,
   "metadata": {},
   "outputs": [],
   "source": []
  },
  {
   "cell_type": "code",
   "execution_count": null,
   "metadata": {},
   "outputs": [],
   "source": []
  },
  {
   "cell_type": "code",
   "execution_count": null,
   "metadata": {},
   "outputs": [],
   "source": []
  },
  {
   "cell_type": "code",
   "execution_count": 208,
   "metadata": {},
   "outputs": [
    {
     "ename": "TypeError",
     "evalue": "'>' not supported between instances of 'str' and 'int'",
     "output_type": "error",
     "traceback": [
      "\u001b[0;31m---------------------------------------------------------------------------\u001b[0m",
      "\u001b[0;31mTypeError\u001b[0m                                 Traceback (most recent call last)",
      "\u001b[0;32m<ipython-input-208-8cf702bf9dcb>\u001b[0m in \u001b[0;36m<module>\u001b[0;34m()\u001b[0m\n\u001b[1;32m      1\u001b[0m \u001b[0m좋아요\u001b[0m \u001b[0;34m=\u001b[0m \u001b[0;34m'61528'\u001b[0m\u001b[0;34m\u001b[0m\u001b[0;34m\u001b[0m\u001b[0m\n\u001b[0;32m----> 2\u001b[0;31m \u001b[0m좋아요\u001b[0m \u001b[0;34m>\u001b[0m \u001b[0;36m200000\u001b[0m\u001b[0;34m\u001b[0m\u001b[0;34m\u001b[0m\u001b[0m\n\u001b[0m",
      "\u001b[0;31mTypeError\u001b[0m: '>' not supported between instances of 'str' and 'int'"
     ]
    }
   ],
   "source": [
    "좋아요 = '61528'\n",
    "좋아요 > 200000"
   ]
  },
  {
   "cell_type": "code",
   "execution_count": null,
   "metadata": {},
   "outputs": [],
   "source": []
  },
  {
   "cell_type": "markdown",
   "metadata": {},
   "source": [
    "## 함수 (Functions)"
   ]
  },
  {
   "cell_type": "code",
   "execution_count": 266,
   "metadata": {},
   "outputs": [],
   "source": [
    "def 구구단_출력(숫자):\n",
    "    # 숫자 = 2\n",
    "    print(\"### {}단 ###\".format(숫자))\n",
    "    for i in range(1, 10, 1):\n",
    "        print(\"{} * {} = {}\".format(숫자, i, 숫자 * i))"
   ]
  },
  {
   "cell_type": "code",
   "execution_count": 267,
   "metadata": {
    "collapsed": true
   },
   "outputs": [
    {
     "name": "stdout",
     "output_type": "stream",
     "text": [
      "### 2단 ###\n",
      "2 * 1 = 2\n",
      "2 * 2 = 4\n",
      "2 * 3 = 6\n",
      "2 * 4 = 8\n",
      "2 * 5 = 10\n",
      "2 * 6 = 12\n",
      "2 * 7 = 14\n",
      "2 * 8 = 16\n",
      "2 * 9 = 18\n",
      "### 3단 ###\n",
      "3 * 1 = 3\n",
      "3 * 2 = 6\n",
      "3 * 3 = 9\n",
      "3 * 4 = 12\n",
      "3 * 5 = 15\n",
      "3 * 6 = 18\n",
      "3 * 7 = 21\n",
      "3 * 8 = 24\n",
      "3 * 9 = 27\n",
      "### 7단 ###\n",
      "7 * 1 = 7\n",
      "7 * 2 = 14\n",
      "7 * 3 = 21\n",
      "7 * 4 = 28\n",
      "7 * 5 = 35\n",
      "7 * 6 = 42\n",
      "7 * 7 = 49\n",
      "7 * 8 = 56\n",
      "7 * 9 = 63\n"
     ]
    }
   ],
   "source": [
    "구구단_출력(2)\n",
    "구구단_출력(3)\n",
    "구구단_출력(7)"
   ]
  },
  {
   "cell_type": "code",
   "execution_count": null,
   "metadata": {},
   "outputs": [],
   "source": []
  },
  {
   "cell_type": "code",
   "execution_count": 270,
   "metadata": {},
   "outputs": [
    {
     "data": {
      "text/plain": [
       "1818"
      ]
     },
     "execution_count": 270,
     "metadata": {},
     "output_type": "execute_result"
    }
   ],
   "source": [
    "계산금액 = 20000\n",
    "부가세 = 계산금액 // 11\n",
    "부가세"
   ]
  },
  {
   "cell_type": "code",
   "execution_count": 271,
   "metadata": {},
   "outputs": [],
   "source": [
    "def 부가세_계산(결제금액):\n",
    "    return 결제금액 // 11"
   ]
  },
  {
   "cell_type": "code",
   "execution_count": 274,
   "metadata": {},
   "outputs": [
    {
     "data": {
      "text/plain": [
       "9090"
      ]
     },
     "execution_count": 274,
     "metadata": {},
     "output_type": "execute_result"
    }
   ],
   "source": [
    "부가세 = 부가세_계산(100000)\n",
    "부가세"
   ]
  },
  {
   "cell_type": "code",
   "execution_count": null,
   "metadata": {},
   "outputs": [],
   "source": []
  },
  {
   "cell_type": "code",
   "execution_count": 275,
   "metadata": {},
   "outputs": [],
   "source": [
    "def hello():\n",
    "    i = 1"
   ]
  },
  {
   "cell_type": "code",
   "execution_count": 278,
   "metadata": {},
   "outputs": [],
   "source": [
    "값 = hello()\n",
    "값"
   ]
  },
  {
   "cell_type": "code",
   "execution_count": null,
   "metadata": {},
   "outputs": [],
   "source": []
  },
  {
   "cell_type": "code",
   "execution_count": 284,
   "metadata": {},
   "outputs": [
    {
     "name": "stdout",
     "output_type": "stream",
     "text": [
      "None\n"
     ]
    }
   ],
   "source": [
    "def 홀짝(숫자):\n",
    "    if 숫자 % 2 == 0:\n",
    "        return '짝'\n",
    "        if 숫자 % 2 != 0:\n",
    "            return '홀'\n",
    "    \n",
    "print(홀짝(11))"
   ]
  },
  {
   "cell_type": "code",
   "execution_count": null,
   "metadata": {},
   "outputs": [],
   "source": []
  },
  {
   "cell_type": "code",
   "execution_count": null,
   "metadata": {},
   "outputs": [],
   "source": []
  }
 ],
 "metadata": {
  "kernelspec": {
   "display_name": "Python 3",
   "language": "python",
   "name": "python3"
  },
  "language_info": {
   "codemirror_mode": {
    "name": "ipython",
    "version": 3
   },
   "file_extension": ".py",
   "mimetype": "text/x-python",
   "name": "python",
   "nbconvert_exporter": "python",
   "pygments_lexer": "ipython3",
   "version": "3.7.2"
  }
 },
 "nbformat": 4,
 "nbformat_minor": 2
}
