{
 "cells": [
  {
   "cell_type": "code",
   "execution_count": 1,
   "metadata": {},
   "outputs": [
    {
     "data": {
      "text/plain": [
       "[{'이름': '철수', '국어': 100, '영어': 80, '수학': 90},\n",
       " {'이름': '영희', '국어': 90, '영어': 70, '수학': 70},\n",
       " {'이름': '스티브', '국어': 50, '영어': 100, '수학': 50}]"
      ]
     },
     "execution_count": 1,
     "metadata": {},
     "output_type": "execute_result"
    }
   ],
   "source": [
    "학생_성적 = [\n",
    "    {'이름': '철수', '국어': 100, '영어': 80, '수학': 90},\n",
    "    {'이름': '영희', '국어': 90, '영어': 70, '수학': 70},\n",
    "    {'이름': '스티브', '국어': 50, '영어': 100, '수학': 50},\n",
    "]\n",
    "학생_성적"
   ]
  },
  {
   "cell_type": "code",
   "execution_count": 2,
   "metadata": {},
   "outputs": [
    {
     "data": {
      "text/plain": [
       "[1, 2, 3, 'a', 'b', 4.5, ['python', 'django', {}]]"
      ]
     },
     "execution_count": 2,
     "metadata": {},
     "output_type": "execute_result"
    }
   ],
   "source": [
    "[1, 2, 3, 'a', 'b', 4.5, ['python', 'django', {}]]"
   ]
  },
  {
   "cell_type": "code",
   "execution_count": 6,
   "metadata": {},
   "outputs": [
    {
     "name": "stdout",
     "output_type": "stream",
     "text": [
      "True\n",
      "False\n",
      "True\n",
      "False\n"
     ]
    }
   ],
   "source": [
    "메뉴_리스트 = ['김치찌개', '김밥', '라면']\n",
    "\n",
    "# 메뉴_리스트.contains(\"김밥\")  # Java라면\n",
    "\n",
    "print('김밥' in 메뉴_리스트)\n",
    "print('김치' in 메뉴_리스트)\n",
    "print('김치' in 메뉴_리스트[0])\n",
    "print('김치' not in 메뉴_리스트[0])"
   ]
  },
  {
   "cell_type": "code",
   "execution_count": null,
   "metadata": {},
   "outputs": [],
   "source": []
  },
  {
   "cell_type": "code",
   "execution_count": null,
   "metadata": {},
   "outputs": [],
   "source": []
  },
  {
   "cell_type": "code",
   "execution_count": null,
   "metadata": {},
   "outputs": [],
   "source": []
  }
 ],
 "metadata": {
  "kernelspec": {
   "display_name": "Python 3",
   "language": "python",
   "name": "python3"
  },
  "language_info": {
   "codemirror_mode": {
    "name": "ipython",
    "version": 3
   },
   "file_extension": ".py",
   "mimetype": "text/x-python",
   "name": "python",
   "nbconvert_exporter": "python",
   "pygments_lexer": "ipython3",
   "version": "3.7.2"
  }
 },
 "nbformat": 4,
 "nbformat_minor": 2
}
